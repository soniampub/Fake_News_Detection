{
 "cells": [
  {
   "cell_type": "code",
   "execution_count": 1,
   "metadata": {},
   "outputs": [
    {
     "name": "stderr",
     "output_type": "stream",
     "text": [
      "/Users/ashish/anaconda3/lib/python3.6/site-packages/sklearn/cross_validation.py:41: DeprecationWarning: This module was deprecated in version 0.18 in favor of the model_selection module into which all the refactored classes and functions are moved. Also note that the interface of the new CV iterators are different from that of this module. This module will be removed in 0.20.\n",
      "  \"This module will be removed in 0.20.\", DeprecationWarning)\n"
     ]
    }
   ],
   "source": [
    "import numpy as np\n",
    "import pandas as pd \n",
    "import nltk\n",
    "from nltk.tokenize import word_tokenize\n",
    "from nltk.tokenize import PunktSentenceTokenizer , TreebankWordTokenizer\n",
    "from nltk.stem import PorterStemmer\n",
    "from nltk.stem import WordNetLemmatizer\n",
    "from sklearn.feature_extraction.stop_words import ENGLISH_STOP_WORDS\n",
    "from nltk.corpus import stopwords\n",
    "from sklearn.model_selection import train_test_split\n",
    "from sklearn.feature_extraction.text import CountVectorizer, TfidfVectorizer\n",
    "from sklearn.linear_model import LogisticRegression\n",
    "from sklearn.cross_validation import cross_val_score\n",
    "from sklearn.metrics import f1_score, accuracy_score , recall_score , precision_score\n"
   ]
  },
  {
   "cell_type": "code",
   "execution_count": 2,
   "metadata": {},
   "outputs": [],
   "source": [
    "df_train = pd.read_csv('data/train_kaggle.csv', sep=',', encoding='utf-8')"
   ]
  },
  {
   "cell_type": "code",
   "execution_count": 3,
   "metadata": {},
   "outputs": [
    {
     "name": "stdout",
     "output_type": "stream",
     "text": [
      "<class 'pandas.core.frame.DataFrame'>\n",
      "RangeIndex: 20800 entries, 0 to 20799\n",
      "Data columns (total 5 columns):\n",
      "id        20800 non-null int64\n",
      "title     20242 non-null object\n",
      "author    18843 non-null object\n",
      "text      20761 non-null object\n",
      "label     20800 non-null int64\n",
      "dtypes: int64(2), object(3)\n",
      "memory usage: 812.6+ KB\n"
     ]
    }
   ],
   "source": [
    "df_train.info()"
   ]
  },
  {
   "cell_type": "code",
   "execution_count": 4,
   "metadata": {},
   "outputs": [
    {
     "name": "stdout",
     "output_type": "stream",
     "text": [
      "Before removing float type:  (20800, 5)\n",
      "After removing float type:  (20761, 5)\n"
     ]
    }
   ],
   "source": [
    "df_train['text'].apply(type).unique()\n",
    "# explore more why the text type is coming as float\n",
    "\n",
    "print(\"Before removing float type: \",df_train.shape)\n",
    "# only remove rows with text as float type\n",
    "\n",
    "df_train = df_train.drop(df_train[df_train['text'].apply(type) == float].index)\n",
    "print(\"After removing float type: \", df_train.shape)"
   ]
  },
  {
   "cell_type": "code",
   "execution_count": 5,
   "metadata": {},
   "outputs": [],
   "source": [
    "#change above X if we r using tokenize and other nlp process\n",
    "#Dropping the Nan values and info\n",
    "df_train.dropna(inplace=True)\n",
    "X = df_train['text']\n",
    "y = df_train['label']\n",
    "\n",
    "# do the similar think on headline (author ?? or source)\n",
    "# name these to test , validation\n",
    "X_train,  X_test,  y_train, y_test = train_test_split(X, y, test_size = 0.2, random_state=12345)"
   ]
  },
  {
   "cell_type": "code",
   "execution_count": null,
   "metadata": {},
   "outputs": [],
   "source": [
    "# stop = set(stopwords.words('english'))\n",
    "# snowball = SnowballStemmer('english')\n",
    "# treebank_word_tokenize = TreebankWordTokenizer().tokenize\n",
    "\n",
    "# def customer_tokenize(col):\n",
    "#     tokens = [treebank_word_tokenize(content.lower())for content in col]\n",
    "#     tokens2 = [[word for word in words if word not in stop] for words in tokens]\n",
    "#     snowballs = [[snowball.stem(word) for word in words]\n",
    "#                  for words in tokens2]\n",
    "#     bag_of_words = []\n",
    "#     for lst in snowballs:\n",
    "#         for word in lst:\n",
    "#             bag_of_words.append(word)\n",
    "#     return bag_of_words\n",
    "\n",
    "# tfidfvect = TfidfVectorizer(stop_words='english', tokenizer=tokenize)\n",
    "# tfidf_vectorized = tfidfvect.fit_transform(new_train['trigger'])"
   ]
  },
  {
   "cell_type": "code",
   "execution_count": 6,
   "metadata": {},
   "outputs": [],
   "source": [
    "tfidf_vectorizer  = TfidfVectorizer(stop_words=ENGLISH_STOP_WORDS, ngram_range=(1,2), max_df= 0.85, min_df= 2)"
   ]
  },
  {
   "cell_type": "code",
   "execution_count": 7,
   "metadata": {},
   "outputs": [],
   "source": [
    "#takes around 2-3 mins\n",
    "X_train_tfidf = tfidf_vectorizer.fit_transform(X_train)\n",
    "X_test_tfidf = tfidf_vectorizer.transform(X_test)"
   ]
  },
  {
   "cell_type": "markdown",
   "metadata": {},
   "source": [
    "## Modeling\n",
    "\n",
    "### Naive Bayes"
   ]
  },
  {
   "cell_type": "code",
   "execution_count": 9,
   "metadata": {},
   "outputs": [],
   "source": [
    "from sklearn.naive_bayes import MultinomialNB\n",
    "nb = MultinomialNB()\n",
    "nb = nb.fit(X_train_tfidf, y_train)\n",
    "y_test_predict_nb = nb.predict(X_test_tfidf)"
   ]
  },
  {
   "cell_type": "code",
   "execution_count": 10,
   "metadata": {},
   "outputs": [
    {
     "name": "stdout",
     "output_type": "stream",
     "text": [
      "Naive Bayes accuracy and F1 score \n",
      "\n",
      "Accuracy 76.155\n",
      "F1 61.141\n",
      "Precision 100.0\n",
      "Recall 44.031\n"
     ]
    }
   ],
   "source": [
    "nb_acc = accuracy_score(y_test, y_test_predict_nb) *  100 \n",
    "nb_F1 = f1_score(y_test, y_test_predict_nb) * 100\n",
    "nb_precision = precision_score(y_test, y_test_predict_nb) * 100\n",
    "nb_recall = recall_score(y_test, y_test_predict_nb) * 100\n",
    "print (\"Naive Bayes accuracy and F1 score \\n\")\n",
    "print (\"Accuracy {:.5}\".format(nb_acc))\n",
    "print (\"F1 {:.5}\".format(nb_F1))\n",
    "print (\"Precision {:.5}\".format(nb_precision))\n",
    "print (\"Recall {:.5}\".format(nb_recall))"
   ]
  },
  {
   "cell_type": "markdown",
   "metadata": {},
   "source": [
    "### Logistic Regression"
   ]
  },
  {
   "cell_type": "code",
   "execution_count": 11,
   "metadata": {},
   "outputs": [
    {
     "data": {
      "text/plain": [
       "LogisticRegression(C=1.0, class_weight=None, dual=False, fit_intercept=True,\n",
       "          intercept_scaling=1, max_iter=100, multi_class='ovr', n_jobs=1,\n",
       "          penalty='l1', random_state=None, solver='liblinear', tol=0.0001,\n",
       "          verbose=0, warm_start=False)"
      ]
     },
     "execution_count": 11,
     "metadata": {},
     "output_type": "execute_result"
    }
   ],
   "source": [
    "lr = LogisticRegression(penalty='l1')\n",
    "# train our model\n",
    "lr.fit(X_train_tfidf, y_train)"
   ]
  },
  {
   "cell_type": "code",
   "execution_count": 12,
   "metadata": {},
   "outputs": [],
   "source": [
    "y_test_predict_lr = lr.predict(X_test_tfidf)"
   ]
  },
  {
   "cell_type": "code",
   "execution_count": 13,
   "metadata": {},
   "outputs": [
    {
     "name": "stdout",
     "output_type": "stream",
     "text": [
      "Logistic regression accuracy and F1 score \n",
      "\n",
      "Accuracy 94.285\n",
      "F1 93.338\n",
      "Precision 92.717\n",
      "Recall 93.967\n"
     ]
    }
   ],
   "source": [
    "lr_acc = accuracy_score(y_test, y_test_predict_lr) *  100 \n",
    "lr_F1 = f1_score(y_test, y_test_predict_lr) * 100\n",
    "lr_precision = precision_score(y_test, y_test_predict_lr) * 100\n",
    "lr_recall = recall_score(y_test, y_test_predict_lr) * 100\n",
    "print (\"Logistic regression accuracy and F1 score \\n\")\n",
    "print (\"Accuracy {:.5}\".format(lr_acc))\n",
    "print (\"F1 {:.5}\".format(lr_F1))\n",
    "print (\"Precision {:.5}\".format(lr_precision))\n",
    "print (\"Recall {:.5}\".format(lr_recall))"
   ]
  },
  {
   "cell_type": "markdown",
   "metadata": {},
   "source": [
    "\n",
    "### Random Forest"
   ]
  },
  {
   "cell_type": "code",
   "execution_count": 14,
   "metadata": {},
   "outputs": [],
   "source": [
    "from sklearn.ensemble import RandomForestClassifier"
   ]
  },
  {
   "cell_type": "code",
   "execution_count": 15,
   "metadata": {},
   "outputs": [
    {
     "data": {
      "text/plain": [
       "RandomForestClassifier(bootstrap=True, class_weight=None, criterion='gini',\n",
       "            max_depth=None, max_features='auto', max_leaf_nodes=None,\n",
       "            min_impurity_decrease=0.0, min_impurity_split=None,\n",
       "            min_samples_leaf=1, min_samples_split=2,\n",
       "            min_weight_fraction_leaf=0.0, n_estimators=100, n_jobs=3,\n",
       "            oob_score=False, random_state=None, verbose=0,\n",
       "            warm_start=False)"
      ]
     },
     "execution_count": 15,
     "metadata": {},
     "output_type": "execute_result"
    }
   ],
   "source": [
    "rf = RandomForestClassifier(n_estimators=100,n_jobs=3)\n",
    "rf.fit(X_train_tfidf, y_train)"
   ]
  },
  {
   "cell_type": "code",
   "execution_count": 16,
   "metadata": {},
   "outputs": [],
   "source": [
    "y_test_predict_rf = rf.predict(X_test_tfidf)"
   ]
  },
  {
   "cell_type": "code",
   "execution_count": 17,
   "metadata": {},
   "outputs": [
    {
     "name": "stdout",
     "output_type": "stream",
     "text": [
      "Random Forest accuracy and F1 score \n",
      "\n",
      "Accuracy 91.441\n",
      "F1 89.188\n",
      "Precision 96.559\n",
      "Recall 82.863\n"
     ]
    }
   ],
   "source": [
    "rf_acc = accuracy_score(y_test, y_test_predict_rf) *  100 \n",
    "rf_F1 = f1_score(y_test, y_test_predict_rf) * 100\n",
    "rf_precision = precision_score(y_test, y_test_predict_rf) * 100\n",
    "rf_recall = recall_score(y_test, y_test_predict_rf) * 100\n",
    "print (\"Random Forest accuracy and F1 score \\n\")\n",
    "print (\"Accuracy {:.5}\".format(rf_acc))\n",
    "print (\"F1 {:.5}\".format(rf_F1))\n",
    "print (\"Precision {:.5}\".format(rf_precision))\n",
    "print (\"Recall {:.5}\".format(rf_recall))"
   ]
  },
  {
   "cell_type": "markdown",
   "metadata": {},
   "source": [
    "### Lets plot ROC curve for various models\n",
    "\n",
    "Import necessary library for ploting\n"
   ]
  },
  {
   "cell_type": "code",
   "execution_count": 19,
   "metadata": {},
   "outputs": [],
   "source": [
    "from sklearn.metrics import confusion_matrix\n",
    "import matplotlib.pyplot as plt\n",
    "import seaborn as sns\n",
    "import sklearn.metrics as skm\n",
    "from sklearn.metrics import roc_curve, roc_auc_score\n",
    "%matplotlib inline"
   ]
  },
  {
   "cell_type": "code",
   "execution_count": 20,
   "metadata": {},
   "outputs": [],
   "source": [
    "\n",
    "# First calculate predicted probabilities for all the models\n",
    "nb_probs = nb.predict_proba(X_test_tfidf)[:, 1]\n",
    "lr_probs = lr.predict_proba(X_test_tfidf)[:, 1]\n",
    "rf_probs = rf.predict_proba(X_test_tfidf)[:, 1]\n",
    "\n",
    "#fpr, tpr, threshold = roc_curve(y_test, preds)\n",
    "fpr_nb, tpr_nb, thresholds_nb = skm.roc_curve(y_test, nb_probs)\n",
    "fpr_lr, tpr_lr, thresholds_lr = skm.roc_curve(y_test, lr_probs)\n",
    "fpr_rf, tpr_rf, thresholds_rf = skm.roc_curve(y_test, rf_probs)\n",
    "\n",
    "roc_auc_nb = skm.auc(fpr_nb, tpr_nb)\n",
    "roc_auc_lr = skm.auc(fpr_lr, tpr_lr)\n",
    "roc_auc_rf = skm.auc(fpr_rf, tpr_rf)"
   ]
  },
  {
   "cell_type": "code",
   "execution_count": 22,
   "metadata": {},
   "outputs": [
    {
     "data": {
      "text/plain": [
       "(0.9814334841274744, 0.9848488277014361, 0.9850295482719627)"
      ]
     },
     "execution_count": 22,
     "metadata": {},
     "output_type": "execute_result"
    }
   ],
   "source": [
    "roc_auc_nb, roc_auc_lr, roc_auc_rf"
   ]
  },
  {
   "cell_type": "code",
   "execution_count": 21,
   "metadata": {},
   "outputs": [
    {
     "data": {
      "image/png": "[encoded data removed]",
      "text/plain": [
       "<matplotlib.figure.Figure at 0x1a26dfc908>"
      ]
     },
     "metadata": {},
     "output_type": "display_data"
    }
   ],
   "source": [
    "#Now plot these values\n",
    "plt.title('ROC (Receiver Operating Characteristic)')\n",
    "plt.plot(fpr_nb, tpr_nb, 'b', label = 'NaiveBayes :AUC = %0.2f' % roc_auc_nb)\n",
    "plt.plot(fpr_lr, tpr_lr, 'g', label = 'LogReg :AUC = %0.2f' % roc_auc_lr)\n",
    "plt.plot(fpr_rf, tpr_rf, 'r', label = 'RandForest :AUC = %0.2f' % roc_auc_rf)\n",
    "plt.legend(loc = 'lower right')\n",
    "plt.plot([0, 1], [0, 1],'r--')\n",
    "plt.xlim([0, 1])\n",
    "plt.ylim([0, 1])\n",
    "plt.xlabel(\"False Positive Rate (1 - Specificity)\")\n",
    "plt.ylabel(\"True Positive Rate (Sensitivity, Recall)\")\n",
    "plt.show()"
   ]
  },
  {
   "cell_type": "code",
   "execution_count": 23,
   "metadata": {},
   "outputs": [
    {
     "data": {
      "text/plain": [
       "(0.7201540436456997, 0.9424391222423295, 0.9033556232229909)"
      ]
     },
     "execution_count": 23,
     "metadata": {},
     "output_type": "execute_result"
    }
   ],
   "source": [
    "import sklearn.metrics as skm\n",
    "skm.roc_auc_score(y_test, y_test_predict_nb),  skm.roc_auc_score(y_test, y_test_predict_lr), skm.roc_auc_score(y_test, y_test_predict_rf)"
   ]
  },
  {
   "cell_type": "markdown",
   "metadata": {},
   "source": [
    "#### To see only one ROC curve,\n",
    "\n",
    "Explore why ROC is not giving us correct curve. I can clearly see I am getting bad performance in case of Naive Bayes and its roc_auc_score when calculated is also 0.72. But when using roc_curve from sklearn.metrics somehow the fpr and tpr are not coming correctly??? Below is just a "
   ]
  },
  {
   "cell_type": "code",
   "execution_count": 25,
   "metadata": {},
   "outputs": [
    {
     "data": {
      "image/png": "[encoded data removed]",
      "text/plain": [
       "<matplotlib.figure.Figure at 0x1a37dede48>"
      ]
     },
     "metadata": {},
     "output_type": "display_data"
    }
   ],
   "source": [
    "nb_probs = nb.predict_proba(X_test_tfidf)[:, 1]\n",
    "fpr_nb, tpr_nb, thresholds_nb = roc_curve(y_test, nb_probs)\n",
    "roc_auc_nb = skm.auc(fpr_nb, tpr_nb)\n",
    "plt.title('ROC (Receiver Operating Characteristic)')\n",
    "plt.plot(fpr_nb, tpr_nb, 'b', label = 'NaiveBayes: AUC = %0.2f' % roc_auc_nb)\n",
    "plt.legend(loc = 'lower right')\n",
    "plt.plot([0, 1], [0, 1],'r--')\n",
    "plt.xlim([0, 1])\n",
    "plt.ylim([0, 1])\n",
    "plt.xlabel(\"False Positive Rate (1 - Specificity)\")\n",
    "plt.ylabel(\"True Positive Rate (Sensitivity, Recall)\")\n",
    "plt.show()\n",
    "\n"
   ]
  },
  {
   "cell_type": "code",
   "execution_count": null,
   "metadata": {},
   "outputs": [],
   "source": []
  }
 ],
 "metadata": {
  "kernelspec": {
   "display_name": "Python 3",
   "language": "python",
   "name": "python3"
  },
  "language_info": {
   "codemirror_mode": {
    "name": "ipython",
    "version": 3
   },
   "file_extension": ".py",
   "mimetype": "text/x-python",
   "name": "python",
   "nbconvert_exporter": "python",
   "pygments_lexer": "ipython3",
   "version": "3.6.4"
  }
 },
 "nbformat": 4,
 "nbformat_minor": 2
}
