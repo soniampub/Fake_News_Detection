{
 "cells": [
  {
   "cell_type": "code",
   "execution_count": 294,
   "metadata": {},
   "outputs": [],
   "source": [
    "import numpy as np\n",
    "import pandas as pd \n",
    "import nltk\n",
    "from nltk.tokenize import word_tokenize\n",
    "from nltk.tokenize import PunktSentenceTokenizer , TreebankWordTokenizer\n",
    "from nltk.stem import PorterStemmer\n",
    "from nltk.stem import WordNetLemmatizer\n",
    "from sklearn.feature_extraction.stop_words import ENGLISH_STOP_WORDS\n",
    "from nltk.corpus import stopwords\n",
    "from sklearn.model_selection import train_test_split\n",
    "from sklearn.feature_extraction.text import CountVectorizer, TfidfVectorizer\n",
    "from sklearn.linear_model import LogisticRegression\n",
    "from sklearn.cross_validation import cross_val_score\n",
    "from sklearn.metrics import f1_score, accuracy_score , recall_score , precision_score\n",
    "import pickle\n",
    "from nltk.tokenize import word_tokenize, PunktSentenceTokenizer, TreebankWordTokenizer\n",
    "from nltk.corpus import stopwords\n",
    "from nltk.stem.porter import PorterStemmer\n",
    "from nltk.stem.snowball import SnowballStemmer\n",
    "from nltk.stem.wordnet import WordNetLemmatizer\n"
   ]
  },
  {
   "cell_type": "code",
   "execution_count": 295,
   "metadata": {},
   "outputs": [],
   "source": [
    "#load Xtrain_tfidf from stored pickle \n",
    "with open('data/X_train_tfidf.pkl', 'rb') as input:\n",
    "    X_train_tfidf = pickle.load(input)\n",
    "    \n",
    "with open('data/X_test_tfidf.pkl', 'rb') as input:\n",
    "    X_test_tfidf = pickle.load(input)\n",
    "    \n",
    "with open('data/y_train_spacy.pkl', 'rb') as input:\n",
    "    y_train = pickle.load(input)\n",
    "    \n",
    "with open('data/y_test_spacy.pkl', 'rb') as input:\n",
    "    y_test = pickle.load(input)"
   ]
  },
  {
   "cell_type": "markdown",
   "metadata": {},
   "source": [
    "### Create Confusion Matrix"
   ]
  },
  {
   "cell_type": "code",
   "execution_count": 296,
   "metadata": {},
   "outputs": [],
   "source": [
    "from sklearn.metrics import confusion_matrix\n",
    "import matplotlib.pyplot as plt\n",
    "import seaborn as sns\n",
    "%matplotlib inline\n",
    "\n",
    "def plot_confusion_matrix(y_pred, y_true):\n",
    "    '''Code stolen brazenly from sklearn example.'''\n",
    "    cm = confusion_matrix(y_true, y_pred)\n",
    "    ax= plt.subplot()\n",
    "    sns.heatmap(cm, cmap = plt.get_cmap('Blues'), annot=True, ax = ax, fmt='g'); #annot=True to annotate cells\n",
    "\n",
    "    # labels, title and ticks\n",
    "    ax.set_ylabel('Predicted labels');ax.set_xlabel('True labels'); \n",
    "    ax.set_title('Confusion Matrix'); \n",
    "    ax.xaxis.set_ticklabels(['Fake', 'Real']); ax.yaxis.set_ticklabels(['Fake', 'Real']);\n"
   ]
  },
  {
   "cell_type": "code",
   "execution_count": 333,
   "metadata": {},
   "outputs": [],
   "source": [
    "def print_model_scores(y_actual, y_predicted, model_name):\n",
    "    accuracy = accuracy_score(y_actual, y_predicted) *  100 \n",
    "    f1 = f1_score(y_actual, y_predicted) * 100\n",
    "    precision = precision_score(y_actual, y_predicted) * 100\n",
    "    recall = recall_score(y_actual, y_predicted) * 100\n",
    "    print (\"{} accuracy and F1 score \\n\".format(model_name))\n",
    "    print (\"Accuracy {:.5}\".format(accuracy))\n",
    "    print (\"F1 {:.5}\".format(f1))\n",
    "    print (\"Precision {:.5}\".format(precision))\n",
    "    print (\"Recall {:.5}\".format(recall))\n",
    "    return [round(accuracy, 3), round(f1, 3), round(precision, 3), round(recall, 3)]\n",
    "    "
   ]
  },
  {
   "cell_type": "markdown",
   "metadata": {},
   "source": [
    "## Modeling\n",
    "\n",
    "### Naive Bayes"
   ]
  },
  {
   "cell_type": "code",
   "execution_count": 298,
   "metadata": {},
   "outputs": [],
   "source": [
    "from sklearn.naive_bayes import MultinomialNB\n",
    "nb = MultinomialNB()\n",
    "nb = nb.fit(X_train_tfidf, y_train)\n",
    "y_test_predict_nb = nb.predict(X_test_tfidf)"
   ]
  },
  {
   "cell_type": "code",
   "execution_count": 334,
   "metadata": {},
   "outputs": [
    {
     "name": "stdout",
     "output_type": "stream",
     "text": [
      "Naive Bayes accuracy and F1 score \n",
      "\n",
      "Accuracy 81.971\n",
      "F1 73.997\n",
      "Precision 70.672\n",
      "Recall 77.651\n"
     ]
    }
   ],
   "source": [
    "nb_scores = print_model_scores(y_test, y_test_predict_nb, \"Naive Bayes\")"
   ]
  },
  {
   "cell_type": "markdown",
   "metadata": {},
   "source": [
    "### Logistic Regression"
   ]
  },
  {
   "cell_type": "code",
   "execution_count": 300,
   "metadata": {},
   "outputs": [],
   "source": [
    "# using optimal parameters from grid search (l1 and 10)\n",
    "lr = LogisticRegression(penalty='l1', C = 10)\n",
    "lr.fit(X_train_tfidf, y_train)\n",
    "y_test_predict_lr = lr.predict(X_test_tfidf)"
   ]
  },
  {
   "cell_type": "code",
   "execution_count": 336,
   "metadata": {},
   "outputs": [
    {
     "name": "stdout",
     "output_type": "stream",
     "text": [
      "Logistic regression accuracy and F1 score \n",
      "\n",
      "Accuracy 89.32\n",
      "F1 83.692\n",
      "Precision 84.444\n",
      "Recall 82.952\n"
     ]
    }
   ],
   "source": [
    "lr_scores = print_model_scores(y_test, y_test_predict_lr, \"Logistic regression\")"
   ]
  },
  {
   "cell_type": "code",
   "execution_count": 302,
   "metadata": {},
   "outputs": [
    {
     "data": {
      "text/plain": [
       "(5000,)"
      ]
     },
     "execution_count": 302,
     "metadata": {},
     "output_type": "execute_result"
    }
   ],
   "source": [
    "coeff = lr.coef_[0]\n",
    "coeff.shape"
   ]
  },
  {
   "cell_type": "code",
   "execution_count": 303,
   "metadata": {},
   "outputs": [
    {
     "name": "stdout",
     "output_type": "stream",
     "text": [
      "[2091 4408 3426  274  235 3132 1407  346 4974 3425  494  658 4843  967\n",
      " 4279 1485 4692  974 3702 1684]\n",
      "[('http', 30.396224575135378), ('subscribe org', 28.91444314221695), ('post appeared', 24.072483331264053), ('article', 23.53323333151819), ('appeared ordinal', 22.707282326388157), ('originally published', 21.245409094166526), ('embedded content', 21.073110567080974), ('average cardinal', 18.44892661266905), ('wrong', 16.544061423846383), ('post', 16.028087525804313), ('bullish', 15.804416364417987), ('certainly', 15.254171923884925), ('vs', 15.070716681571497), ('copyright', 14.90475274716434), ('spiritual', 14.828603742064852), ('essays', 14.800601814195739), ('ultimately', 14.487720245173747), ('correct', 14.049017506000395), ('reading', 13.724400088742959), ('figure', 13.650761712212933)]\n"
     ]
    }
   ],
   "source": [
    "top_n_index = np.argsort(coeff)[::-1][:20]\n",
    "print(top_n_index)\n",
    "with open('data/tfidf_featurename.pkl', 'rb') as input:\n",
    "    featurenames_spacy = pickle.load(input)\n",
    "\n",
    "    #feature_names = tfidf_vectorizer.get_feature_names()\n",
    "top_feat_tuple = [(featurenames_spacy[i], coeff[i]) for i in top_n_index]\n",
    "\n",
    "print(top_feat_tuple)"
   ]
  },
  {
   "cell_type": "code",
   "execution_count": 304,
   "metadata": {},
   "outputs": [
    {
     "data": {
      "image/png": "[encoded data removed]",
      "text/plain": [
       "<matplotlib.figure.Figure at 0x1a19dd06a0>"
      ]
     },
     "metadata": {},
     "output_type": "display_data"
    }
   ],
   "source": [
    "plot_confusion_matrix(y_test_predict_lr, y_test)"
   ]
  },
  {
   "cell_type": "markdown",
   "metadata": {},
   "source": [
    "\n",
    "### Random Forest"
   ]
  },
  {
   "cell_type": "code",
   "execution_count": 305,
   "metadata": {},
   "outputs": [],
   "source": [
    "from sklearn.ensemble import RandomForestClassifier\n",
    "rf = RandomForestClassifier(n_estimators=150, min_samples_split=5, max_depth=60)\n",
    "rf.fit(X_train_tfidf, y_train)\n",
    "y_test_predict_rf = rf.predict(X_test_tfidf)"
   ]
  },
  {
   "cell_type": "code",
   "execution_count": 337,
   "metadata": {},
   "outputs": [
    {
     "name": "stdout",
     "output_type": "stream",
     "text": [
      "Random Forest accuracy and F1 score \n",
      "\n",
      "Accuracy 89.148\n",
      "F1 82.405\n",
      "Precision 88.729\n",
      "Recall 76.923\n"
     ]
    }
   ],
   "source": [
    "rf_scores = print_model_scores(y_test, y_test_predict_rf, \"Random Forest\")"
   ]
  },
  {
   "cell_type": "code",
   "execution_count": 307,
   "metadata": {},
   "outputs": [
    {
     "data": {
      "image/png": "[encoded data removed]",
      "text/plain": [
       "<matplotlib.figure.Figure at 0x1a1cf939e8>"
      ]
     },
     "metadata": {},
     "output_type": "display_data"
    }
   ],
   "source": [
    "plot_confusion_matrix(y_test_predict_rf, y_test)"
   ]
  },
  {
   "cell_type": "markdown",
   "metadata": {},
   "source": [
    "### SVM classifier"
   ]
  },
  {
   "cell_type": "code",
   "execution_count": 311,
   "metadata": {},
   "outputs": [],
   "source": [
    "from sklearn.svm import SVC\n",
    "svm = SVC(kernel = 'linear', probability = True, random_state = 0)"
   ]
  },
  {
   "cell_type": "code",
   "execution_count": 312,
   "metadata": {},
   "outputs": [],
   "source": [
    "svm.fit(X_train_tfidf, y_train)\n",
    "y_test_predict_svm = svm.predict(X_test_tfidf)"
   ]
  },
  {
   "cell_type": "code",
   "execution_count": 338,
   "metadata": {},
   "outputs": [
    {
     "name": "stdout",
     "output_type": "stream",
     "text": [
      "SVM accuracy and F1 score \n",
      "\n",
      "Accuracy 88.908\n",
      "F1 82.474\n",
      "Precision 86.266\n",
      "Recall 79.002\n"
     ]
    }
   ],
   "source": [
    "svm_scores = print_model_scores(y_test, y_test_predict_svm, \"SVM\")"
   ]
  },
  {
   "cell_type": "code",
   "execution_count": 284,
   "metadata": {},
   "outputs": [
    {
     "data": {
      "image/png": "[encoded data removed]",
      "text/plain": [
       "<matplotlib.figure.Figure at 0x1a2ad3ff98>"
      ]
     },
     "metadata": {},
     "output_type": "display_data"
    }
   ],
   "source": [
    "plot_confusion_matrix(y_test_predict_svm, y_test)"
   ]
  },
  {
   "cell_type": "markdown",
   "metadata": {},
   "source": [
    "### Boosting using Adaboost"
   ]
  },
  {
   "cell_type": "code",
   "execution_count": 308,
   "metadata": {},
   "outputs": [],
   "source": [
    "from sklearn.ensemble import AdaBoostClassifier\n",
    "ada = AdaBoostClassifier(algorithm = \"SAMME.R\", n_estimators = 50)\n",
    "ada.fit(X_train_tfidf, y_train)\n",
    "y_test_predict_ada = ada.predict(X_test_tfidf)"
   ]
  },
  {
   "cell_type": "code",
   "execution_count": 339,
   "metadata": {},
   "outputs": [
    {
     "name": "stdout",
     "output_type": "stream",
     "text": [
      "AdaBoost accuracy and F1 score \n",
      "\n",
      "Accuracy 87.054\n",
      "F1 80.736\n",
      "Precision 79.397\n",
      "Recall 82.121\n"
     ]
    }
   ],
   "source": [
    "ada_scores = print_model_scores(y_test, y_test_predict_ada, \"AdaBoost\")"
   ]
  },
  {
   "cell_type": "code",
   "execution_count": 310,
   "metadata": {},
   "outputs": [
    {
     "data": {
      "image/png": "[encoded data removed]",
      "text/plain": [
       "<matplotlib.figure.Figure at 0x1a1b2b4b38>"
      ]
     },
     "metadata": {},
     "output_type": "display_data"
    }
   ],
   "source": [
    "plot_confusion_matrix(y_test_predict_ada, y_test)"
   ]
  },
  {
   "cell_type": "markdown",
   "metadata": {},
   "source": [
    "### Gradient Boosting"
   ]
  },
  {
   "cell_type": "code",
   "execution_count": 352,
   "metadata": {},
   "outputs": [],
   "source": [
    "from sklearn.ensemble import GradientBoostingClassifier"
   ]
  },
  {
   "cell_type": "code",
   "execution_count": 353,
   "metadata": {},
   "outputs": [],
   "source": [
    "gb = GradientBoostingClassifier(learning_rate = 0.1, max_depth = 50, n_estimators = 100, subsample = 0.5)\n",
    "gb.fit(X_train_tfidf, y_train)\n",
    "y_test_predict_gb = gb.predict(X_test_tfidf)"
   ]
  },
  {
   "cell_type": "code",
   "execution_count": 356,
   "metadata": {},
   "outputs": [
    {
     "name": "stdout",
     "output_type": "stream",
     "text": [
      "Gradient Boosting accuracy and F1 score \n",
      "\n",
      "Accuracy 91.003\n",
      "F1 85.929\n",
      "Precision 88.889\n",
      "Recall 83.16\n"
     ]
    }
   ],
   "source": [
    "gb_scores = print_model_scores(y_test, y_test_predict_gb, \"Gradient Boosting\")"
   ]
  },
  {
   "cell_type": "code",
   "execution_count": 357,
   "metadata": {},
   "outputs": [
    {
     "data": {
      "image/png": "[encoded data removed]",
      "text/plain": [
       "<matplotlib.figure.Figure at 0x1a16fb0a20>"
      ]
     },
     "metadata": {},
     "output_type": "display_data"
    }
   ],
   "source": [
    "plot_confusion_matrix(y_test_predict_gb, y_test)"
   ]
  },
  {
   "cell_type": "markdown",
   "metadata": {},
   "source": [
    "### Lets plot ROC curve for various models"
   ]
  },
  {
   "cell_type": "code",
   "execution_count": 360,
   "metadata": {},
   "outputs": [],
   "source": [
    "from sklearn.metrics import confusion_matrix\n",
    "import matplotlib.pyplot as plt\n",
    "import seaborn as sns\n",
    "import sklearn.metrics as skm\n",
    "from sklearn.metrics import roc_curve, roc_auc_score\n",
    "%matplotlib inline"
   ]
  },
  {
   "cell_type": "code",
   "execution_count": 361,
   "metadata": {},
   "outputs": [],
   "source": [
    "# First calculate predicted probabilities for all the models\n",
    "nb_probs = nb.predict_proba(X_test_tfidf)[:, 1]\n",
    "lr_probs = lr.predict_proba(X_test_tfidf)[:, 1]\n",
    "rf_probs = rf.predict_proba(X_test_tfidf)[:, 1]\n",
    "ada_probs = ada.predict_proba(X_test_tfidf)[:, 1]\n",
    "svm_probs = svm.predict_proba(X_test_tfidf)[:, 1]\n",
    "gb_probs = gb.predict_proba(X_test_tfidf)[:, 1]\n",
    "\n",
    "#fpr, tpr, threshold = roc_curve(y_test, preds)\n",
    "fpr_nb, tpr_nb, thresholds_nb = skm.roc_curve(y_test, nb_probs)\n",
    "fpr_lr, tpr_lr, thresholds_lr = skm.roc_curve(y_test, lr_probs)\n",
    "fpr_rf, tpr_rf, thresholds_rf = skm.roc_curve(y_test, rf_probs)\n",
    "fpr_ada, tpr_ada, thresholds_ada = skm.roc_curve(y_test, ada_probs)\n",
    "fpr_svm, tpr_svm, thresholds_svm = skm.roc_curve(y_test, svm_probs)\n",
    "fpr_gb, tpr_gb, thresholds_gb = skm.roc_curve(y_test, gb_probs)"
   ]
  },
  {
   "cell_type": "code",
   "execution_count": 362,
   "metadata": {},
   "outputs": [],
   "source": [
    "import sklearn.metrics as skm\n",
    "roc_auc_nb = skm.roc_auc_score(y_test, y_test_predict_nb)\n",
    "roc_auc_lr = skm.roc_auc_score(y_test, y_test_predict_lr)\n",
    "roc_auc_rf = skm.roc_auc_score(y_test, y_test_predict_rf)\n",
    "roc_auc_ada = skm.roc_auc_score(y_test, y_test_predict_ada)\n",
    "roc_auc_svm = skm.roc_auc_score(y_test, y_test_predict_svm)\n",
    "roc_auc_gb = skm.roc_auc_score(y_test, y_test_predict_gb)"
   ]
  },
  {
   "cell_type": "code",
   "execution_count": 363,
   "metadata": {},
   "outputs": [
    {
     "data": {
      "image/png": "[encoded data removed]",
      "text/plain": [
       "<matplotlib.figure.Figure at 0x1a156deac8>"
      ]
     },
     "metadata": {},
     "output_type": "display_data"
    }
   ],
   "source": [
    "#Now plot these values\n",
    "plt.title('ROC Curve')\n",
    "plt.plot(fpr_nb, tpr_nb, label = 'NaiveBayes: AUC = %0.2f' % roc_auc_nb)\n",
    "plt.plot(fpr_lr, tpr_lr, label = 'LogReg: AUC = %0.2f' % roc_auc_lr)\n",
    "plt.plot(fpr_rf, tpr_rf, label = 'RandForest: AUC = %0.2f' % roc_auc_rf)\n",
    "plt.plot(fpr_ada, tpr_ada, label = 'AdaBoost: AUC = %0.2f' % roc_auc_ada)\n",
    "plt.plot(fpr_svm, tpr_svm, label = 'SVM: AUC = %0.2f' % roc_auc_svm)\n",
    "plt.plot(fpr_gb, tpr_gb, label = 'Grad Boosting: AUC = %0.2f' % roc_auc_gb)\n",
    "plt.legend(loc = 'lower right')\n",
    "plt.plot([0, 1], [0, 1],'r--')\n",
    "plt.xlim([0, 1])\n",
    "plt.ylim([0, 1])\n",
    "plt.xlabel(\"False Positive Rate (1 - Specificity)\")\n",
    "plt.ylabel(\"True Positive Rate (Sensitivity, Recall)\")\n",
    "plt.show()"
   ]
  },
  {
   "cell_type": "code",
   "execution_count": 364,
   "metadata": {},
   "outputs": [
    {
     "data": {
      "text/html": [
       "<div>\n",
       "<style scoped>\n",
       "    .dataframe tbody tr th:only-of-type {\n",
       "        vertical-align: middle;\n",
       "    }\n",
       "\n",
       "    .dataframe tbody tr th {\n",
       "        vertical-align: top;\n",
       "    }\n",
       "\n",
       "    .dataframe thead th {\n",
       "        text-align: right;\n",
       "    }\n",
       "</style>\n",
       "<table border=\"1\" class=\"dataframe\">\n",
       "  <thead>\n",
       "    <tr style=\"text-align: right;\">\n",
       "      <th></th>\n",
       "      <th>Model</th>\n",
       "      <th>Accuracy</th>\n",
       "      <th>F1 Score</th>\n",
       "      <th>Precision</th>\n",
       "      <th>Recall</th>\n",
       "    </tr>\n",
       "  </thead>\n",
       "  <tbody>\n",
       "    <tr>\n",
       "      <th>0</th>\n",
       "      <td>Naive Bayes</td>\n",
       "      <td>81.971</td>\n",
       "      <td>73.997</td>\n",
       "      <td>70.672</td>\n",
       "      <td>77.651</td>\n",
       "    </tr>\n",
       "    <tr>\n",
       "      <th>1</th>\n",
       "      <td>Logistic Regression</td>\n",
       "      <td>89.320</td>\n",
       "      <td>83.692</td>\n",
       "      <td>84.444</td>\n",
       "      <td>82.952</td>\n",
       "    </tr>\n",
       "    <tr>\n",
       "      <th>2</th>\n",
       "      <td>Random Forest</td>\n",
       "      <td>89.148</td>\n",
       "      <td>82.405</td>\n",
       "      <td>88.729</td>\n",
       "      <td>76.923</td>\n",
       "    </tr>\n",
       "    <tr>\n",
       "      <th>3</th>\n",
       "      <td>SVM</td>\n",
       "      <td>88.908</td>\n",
       "      <td>82.474</td>\n",
       "      <td>86.266</td>\n",
       "      <td>79.002</td>\n",
       "    </tr>\n",
       "    <tr>\n",
       "      <th>4</th>\n",
       "      <td>Adaboost</td>\n",
       "      <td>87.054</td>\n",
       "      <td>80.736</td>\n",
       "      <td>79.397</td>\n",
       "      <td>82.121</td>\n",
       "    </tr>\n",
       "    <tr>\n",
       "      <th>5</th>\n",
       "      <td>Gradient Boosting</td>\n",
       "      <td>91.003</td>\n",
       "      <td>85.929</td>\n",
       "      <td>88.889</td>\n",
       "      <td>83.160</td>\n",
       "    </tr>\n",
       "  </tbody>\n",
       "</table>\n",
       "</div>"
      ],
      "text/plain": [
       "                 Model  Accuracy  F1 Score  Precision  Recall\n",
       "0          Naive Bayes    81.971    73.997     70.672  77.651\n",
       "1  Logistic Regression    89.320    83.692     84.444  82.952\n",
       "2        Random Forest    89.148    82.405     88.729  76.923\n",
       "3                  SVM    88.908    82.474     86.266  79.002\n",
       "4             Adaboost    87.054    80.736     79.397  82.121\n",
       "5    Gradient Boosting    91.003    85.929     88.889  83.160"
      ]
     },
     "execution_count": 364,
     "metadata": {},
     "output_type": "execute_result"
    }
   ],
   "source": [
    "# Model Performance\n",
    "column_names = ['Model', 'Accuracy', 'F1 Score', 'Precision', 'Recall']\n",
    "data = [\n",
    "        ['Naive Bayes'] + nb_scores,\n",
    "        ['Logistic Regression'] + lr_scores,\n",
    "        ['Random Forest'] + rf_scores,\n",
    "        ['SVM'] + svm_scores,\n",
    "        ['Adaboost'] + ada_scores,\n",
    "        ['Gradient Boosting'] + gb_scores\n",
    "       ]\n",
    "\n",
    "model_perform = pd.DataFrame.from_records(data, columns=column_names)\n",
    "model_perform"
   ]
  },
  {
   "cell_type": "code",
   "execution_count": null,
   "metadata": {},
   "outputs": [],
   "source": []
  }
 ],
 "metadata": {
  "kernelspec": {
   "display_name": "Python 3",
   "language": "python",
   "name": "python3"
  },
  "language_info": {
   "codemirror_mode": {
    "name": "ipython",
    "version": 3
   },
   "file_extension": ".py",
   "mimetype": "text/x-python",
   "name": "python",
   "nbconvert_exporter": "python",
   "pygments_lexer": "ipython3",
   "version": "3.6.4"
  }
 },
 "nbformat": 4,
 "nbformat_minor": 2
}
