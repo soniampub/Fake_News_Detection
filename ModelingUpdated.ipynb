{
 "cells": [
  {
   "cell_type": "code",
   "execution_count": 53,
   "metadata": {},
   "outputs": [],
   "source": [
    "import numpy as np\n",
    "import pandas as pd \n",
    "import nltk\n",
    "from nltk.tokenize import word_tokenize\n",
    "from nltk.tokenize import PunktSentenceTokenizer , TreebankWordTokenizer\n",
    "from nltk.stem import PorterStemmer\n",
    "from nltk.stem import WordNetLemmatizer\n",
    "from sklearn.feature_extraction.stop_words import ENGLISH_STOP_WORDS\n",
    "from nltk.corpus import stopwords\n",
    "from sklearn.model_selection import train_test_split\n",
    "from sklearn.feature_extraction.text import CountVectorizer, TfidfVectorizer\n",
    "from sklearn.linear_model import LogisticRegression\n",
    "from sklearn.cross_validation import cross_val_score\n",
    "from sklearn.metrics import f1_score, accuracy_score , recall_score , precision_score\n"
   ]
  },
  {
   "cell_type": "code",
   "execution_count": 54,
   "metadata": {},
   "outputs": [],
   "source": [
    "df_all = pd.read_pickle('data/all_data.pkl')\n",
    "#Do this once, only when your data is changed \n",
    "# df_train = df_all.sample(frac=0.7)\n",
    "# df_test = df_all.loc[~df_all.index.isin(df_train.index), :]\n",
    "#pickle these for grid search\n",
    "# df_train.to_pickle('data/data_train.pkl')\n",
    "# df_test.to_pickle('data/data_test.pkl')"
   ]
  },
  {
   "cell_type": "code",
   "execution_count": 55,
   "metadata": {},
   "outputs": [
    {
     "data": {
      "text/html": [
       "<div>\n",
       "<style scoped>\n",
       "    .dataframe tbody tr th:only-of-type {\n",
       "        vertical-align: middle;\n",
       "    }\n",
       "\n",
       "    .dataframe tbody tr th {\n",
       "        vertical-align: top;\n",
       "    }\n",
       "\n",
       "    .dataframe thead th {\n",
       "        text-align: right;\n",
       "    }\n",
       "</style>\n",
       "<table border=\"1\" class=\"dataframe\">\n",
       "  <thead>\n",
       "    <tr style=\"text-align: right;\">\n",
       "      <th></th>\n",
       "      <th>content</th>\n",
       "      <th>id</th>\n",
       "      <th>label</th>\n",
       "      <th>media-type</th>\n",
       "      <th>published</th>\n",
       "      <th>source</th>\n",
       "      <th>title</th>\n",
       "    </tr>\n",
       "  </thead>\n",
       "  <tbody>\n",
       "    <tr>\n",
       "      <th>0</th>\n",
       "      <td>(Before It's News)  \\n\\nHow did Trump do in th...</td>\n",
       "      <td>804e6b92-04aa-494d-a261-b93d5d1357ad</td>\n",
       "      <td>1</td>\n",
       "      <td>News</td>\n",
       "      <td>2015-09-17T20:59:20Z</td>\n",
       "      <td>Before Its News</td>\n",
       "      <td>How Did Trump Do in the Debate?</td>\n",
       "    </tr>\n",
       "    <tr>\n",
       "      <th>1</th>\n",
       "      <td>(Before It's News)  \\n  \\nKaren Rueda | Cathol...</td>\n",
       "      <td>d0ec4c73-c790-4f12-8641-7df64c9c5f24</td>\n",
       "      <td>1</td>\n",
       "      <td>News</td>\n",
       "      <td>2015-09-28T16:30:14Z</td>\n",
       "      <td>Before It's News</td>\n",
       "      <td>Panelists say fewer births, marriages point to...</td>\n",
       "    </tr>\n",
       "  </tbody>\n",
       "</table>\n",
       "</div>"
      ],
      "text/plain": [
       "                                             content  \\\n",
       "0  (Before It's News)  \\n\\nHow did Trump do in th...   \n",
       "1  (Before It's News)  \\n  \\nKaren Rueda | Cathol...   \n",
       "\n",
       "                                     id  label media-type  \\\n",
       "0  804e6b92-04aa-494d-a261-b93d5d1357ad      1       News   \n",
       "1  d0ec4c73-c790-4f12-8641-7df64c9c5f24      1       News   \n",
       "\n",
       "              published            source  \\\n",
       "0  2015-09-17T20:59:20Z   Before Its News   \n",
       "1  2015-09-28T16:30:14Z  Before It's News   \n",
       "\n",
       "                                               title  \n",
       "0                    How Did Trump Do in the Debate?  \n",
       "1  Panelists say fewer births, marriages point to...  "
      ]
     },
     "execution_count": 55,
     "metadata": {},
     "output_type": "execute_result"
    }
   ],
   "source": [
    "df_all.head(2)"
   ]
  },
  {
   "cell_type": "code",
   "execution_count": 56,
   "metadata": {},
   "outputs": [
    {
     "data": {
      "text/plain": [
       "12492"
      ]
     },
     "execution_count": 56,
     "metadata": {},
     "output_type": "execute_result"
    }
   ],
   "source": [
    "len(df_all)"
   ]
  },
  {
   "cell_type": "code",
   "execution_count": 82,
   "metadata": {},
   "outputs": [],
   "source": [
    "df_train = pd.read_pickle('data/data_train.pkl')\n",
    "df_test = pd.read_pickle('data/data_test.pkl')"
   ]
  },
  {
   "cell_type": "code",
   "execution_count": 58,
   "metadata": {},
   "outputs": [
    {
     "data": {
      "text/html": [
       "<div>\n",
       "<style scoped>\n",
       "    .dataframe tbody tr th:only-of-type {\n",
       "        vertical-align: middle;\n",
       "    }\n",
       "\n",
       "    .dataframe tbody tr th {\n",
       "        vertical-align: top;\n",
       "    }\n",
       "\n",
       "    .dataframe thead th {\n",
       "        text-align: right;\n",
       "    }\n",
       "</style>\n",
       "<table border=\"1\" class=\"dataframe\">\n",
       "  <thead>\n",
       "    <tr style=\"text-align: right;\">\n",
       "      <th></th>\n",
       "      <th>content</th>\n",
       "      <th>id</th>\n",
       "      <th>media-type</th>\n",
       "      <th>published</th>\n",
       "      <th>source</th>\n",
       "      <th>title</th>\n",
       "    </tr>\n",
       "    <tr>\n",
       "      <th>label</th>\n",
       "      <th></th>\n",
       "      <th></th>\n",
       "      <th></th>\n",
       "      <th></th>\n",
       "      <th></th>\n",
       "      <th></th>\n",
       "    </tr>\n",
       "  </thead>\n",
       "  <tbody>\n",
       "    <tr>\n",
       "      <th>0</th>\n",
       "      <td>6445</td>\n",
       "      <td>6445</td>\n",
       "      <td>6445</td>\n",
       "      <td>6445</td>\n",
       "      <td>6445</td>\n",
       "      <td>6445</td>\n",
       "    </tr>\n",
       "    <tr>\n",
       "      <th>1</th>\n",
       "      <td>2299</td>\n",
       "      <td>2299</td>\n",
       "      <td>2299</td>\n",
       "      <td>2299</td>\n",
       "      <td>2299</td>\n",
       "      <td>2299</td>\n",
       "    </tr>\n",
       "  </tbody>\n",
       "</table>\n",
       "</div>"
      ],
      "text/plain": [
       "       content    id  media-type  published  source  title\n",
       "label                                                     \n",
       "0         6445  6445        6445       6445    6445   6445\n",
       "1         2299  2299        2299       2299    2299   2299"
      ]
     },
     "execution_count": 58,
     "metadata": {},
     "output_type": "execute_result"
    }
   ],
   "source": [
    "df_train.groupby('label').count()"
   ]
  },
  {
   "cell_type": "code",
   "execution_count": 59,
   "metadata": {},
   "outputs": [
    {
     "data": {
      "text/html": [
       "<div>\n",
       "<style scoped>\n",
       "    .dataframe tbody tr th:only-of-type {\n",
       "        vertical-align: middle;\n",
       "    }\n",
       "\n",
       "    .dataframe tbody tr th {\n",
       "        vertical-align: top;\n",
       "    }\n",
       "\n",
       "    .dataframe thead th {\n",
       "        text-align: right;\n",
       "    }\n",
       "</style>\n",
       "<table border=\"1\" class=\"dataframe\">\n",
       "  <thead>\n",
       "    <tr style=\"text-align: right;\">\n",
       "      <th></th>\n",
       "      <th>content</th>\n",
       "      <th>id</th>\n",
       "      <th>media-type</th>\n",
       "      <th>published</th>\n",
       "      <th>source</th>\n",
       "      <th>title</th>\n",
       "    </tr>\n",
       "    <tr>\n",
       "      <th>label</th>\n",
       "      <th></th>\n",
       "      <th></th>\n",
       "      <th></th>\n",
       "      <th></th>\n",
       "      <th></th>\n",
       "      <th></th>\n",
       "    </tr>\n",
       "  </thead>\n",
       "  <tbody>\n",
       "    <tr>\n",
       "      <th>0</th>\n",
       "      <td>2835</td>\n",
       "      <td>2835</td>\n",
       "      <td>2835</td>\n",
       "      <td>2835</td>\n",
       "      <td>2835</td>\n",
       "      <td>2835</td>\n",
       "    </tr>\n",
       "    <tr>\n",
       "      <th>1</th>\n",
       "      <td>913</td>\n",
       "      <td>913</td>\n",
       "      <td>913</td>\n",
       "      <td>913</td>\n",
       "      <td>913</td>\n",
       "      <td>913</td>\n",
       "    </tr>\n",
       "  </tbody>\n",
       "</table>\n",
       "</div>"
      ],
      "text/plain": [
       "       content    id  media-type  published  source  title\n",
       "label                                                     \n",
       "0         2835  2835        2835       2835    2835   2835\n",
       "1          913   913         913        913     913    913"
      ]
     },
     "execution_count": 59,
     "metadata": {},
     "output_type": "execute_result"
    }
   ],
   "source": [
    "df_test.groupby('label').count()"
   ]
  },
  {
   "cell_type": "code",
   "execution_count": 83,
   "metadata": {},
   "outputs": [],
   "source": [
    "#change above X if we r using tokenize and other nlp process\n",
    "X_train = df_train['content']\n",
    "y_train = df_train['label']\n",
    "X_test = df_test['content']\n",
    "y_test = df_test['label']"
   ]
  },
  {
   "cell_type": "code",
   "execution_count": null,
   "metadata": {},
   "outputs": [],
   "source": [
    "# stop = set(stopwords.words('english'))\n",
    "# snowball = SnowballStemmer('english')\n",
    "# treebank_word_tokenize = TreebankWordTokenizer().tokenize\n",
    "\n",
    "# def customer_tokenize(col):\n",
    "#     tokens = [treebank_word_tokenize(content.lower())for content in col]\n",
    "#     tokens2 = [[word for word in words if word not in stop] for words in tokens]\n",
    "#     snowballs = [[snowball.stem(word) for word in words]\n",
    "#                  for words in tokens2]\n",
    "#     bag_of_words = []\n",
    "#     for lst in snowballs:\n",
    "#         for word in lst:\n",
    "#             bag_of_words.append(word)\n",
    "#     return bag_of_words\n",
    "\n",
    "# tfidfvect = TfidfVectorizer(stop_words='english', tokenizer=tokenize)\n",
    "# tfidf_vectorized = tfidfvect.fit_transform(new_train['trigger'])"
   ]
  },
  {
   "cell_type": "code",
   "execution_count": 84,
   "metadata": {},
   "outputs": [],
   "source": [
    "tfidf_vectorizer  = TfidfVectorizer(stop_words=ENGLISH_STOP_WORDS, ngram_range=(1,2), max_df= 0.85, min_df= 2)"
   ]
  },
  {
   "cell_type": "code",
   "execution_count": 85,
   "metadata": {},
   "outputs": [],
   "source": [
    "#takes around 2-3 mins\n",
    "X_train_tfidf = tfidf_vectorizer.fit_transform(X_train)\n",
    "X_test_tfidf = tfidf_vectorizer.transform(X_test)"
   ]
  },
  {
   "cell_type": "markdown",
   "metadata": {},
   "source": [
    "### Create Confusion Matrix"
   ]
  },
  {
   "cell_type": "code",
   "execution_count": 90,
   "metadata": {},
   "outputs": [],
   "source": [
    "from sklearn.metrics import confusion_matrix\n",
    "import matplotlib.pyplot as plt\n",
    "import seaborn as sns\n",
    "%matplotlib inline\n",
    "\n",
    "\n",
    "def plot_confusion_matrix(y_pred, y_true):\n",
    "    '''Code stolen brazenly from sklearn example.'''\n",
    "    cm = confusion_matrix(y_true, y_pred)\n",
    "    ax= plt.subplot()\n",
    "    sns.heatmap(cm, annot=True, ax = ax); #annot=True to annotate cells\n",
    "\n",
    "    # labels, title and ticks\n",
    "    ax.set_xlabel('Predicted labels');ax.set_ylabel('True labels'); \n",
    "    ax.set_title('Confusion Matrix'); \n",
    "    ax.xaxis.set_ticklabels(['Fake', 'Real']); ax.yaxis.set_ticklabels(['Fake', 'Real']);\n"
   ]
  },
  {
   "cell_type": "markdown",
   "metadata": {},
   "source": [
    "## Modeling\n",
    "\n",
    "### Naive Bayes"
   ]
  },
  {
   "cell_type": "code",
   "execution_count": 63,
   "metadata": {},
   "outputs": [],
   "source": [
    "from sklearn.naive_bayes import MultinomialNB\n",
    "nb = MultinomialNB()\n",
    "nb = nb.fit(X_train_tfidf, y_train)\n",
    "y_test_predict_nb = nb.predict(X_test_tfidf)"
   ]
  },
  {
   "cell_type": "code",
   "execution_count": 64,
   "metadata": {},
   "outputs": [
    {
     "name": "stdout",
     "output_type": "stream",
     "text": [
      "Naive Bayes accuracy and F1 score \n",
      "\n",
      "Accuracy 76.73\n",
      "F1 18.437\n",
      "Precision 100.0\n",
      "Recall 10.155\n"
     ]
    }
   ],
   "source": [
    "nb_acc = accuracy_score(y_test, y_test_predict_nb) *  100 \n",
    "nb_F1 = f1_score(y_test, y_test_predict_nb) * 100\n",
    "nb_precision = precision_score(y_test, y_test_predict_nb) * 100\n",
    "nb_recall = recall_score(y_test, y_test_predict_nb) * 100\n",
    "print (\"Naive Bayes accuracy and F1 score \\n\")\n",
    "print (\"Accuracy {:.5}\".format(nb_acc))\n",
    "print (\"F1 {:.5}\".format(nb_F1))\n",
    "print (\"Precision {:.5}\".format(nb_precision))\n",
    "print (\"Recall {:.5}\".format(nb_recall))"
   ]
  },
  {
   "cell_type": "markdown",
   "metadata": {},
   "source": [
    "### Logistic Regression"
   ]
  },
  {
   "cell_type": "code",
   "execution_count": 86,
   "metadata": {},
   "outputs": [
    {
     "data": {
      "text/plain": [
       "LogisticRegression(C=10, class_weight=None, dual=False, fit_intercept=True,\n",
       "          intercept_scaling=1, max_iter=100, multi_class='ovr', n_jobs=1,\n",
       "          penalty='l1', random_state=None, solver='liblinear', tol=0.0001,\n",
       "          verbose=0, warm_start=False)"
      ]
     },
     "execution_count": 86,
     "metadata": {},
     "output_type": "execute_result"
    }
   ],
   "source": [
    "# using optimal parameters from grid search (l1 and 10)\n",
    "lr = LogisticRegression(penalty='l1', C = 10)\n",
    "# train our model\n",
    "lr.fit(X_train_tfidf, y_train)"
   ]
  },
  {
   "cell_type": "code",
   "execution_count": 87,
   "metadata": {},
   "outputs": [],
   "source": [
    "y_test_predict_lr = lr.predict(X_test_tfidf)"
   ]
  },
  {
   "cell_type": "code",
   "execution_count": 88,
   "metadata": {},
   "outputs": [
    {
     "name": "stdout",
     "output_type": "stream",
     "text": [
      "Logistic regression accuracy and F1 score \n",
      "\n",
      "Accuracy 94.637\n",
      "F1 88.864\n",
      "Precision 89.91\n",
      "Recall 87.842\n"
     ]
    }
   ],
   "source": [
    "lr_acc = accuracy_score(y_test, y_test_predict_lr) *  100 \n",
    "lr_F1 = f1_score(y_test, y_test_predict_lr) * 100\n",
    "lr_precision = precision_score(y_test, y_test_predict_lr) * 100\n",
    "lr_recall = recall_score(y_test, y_test_predict_lr) * 100\n",
    "print (\"Logistic regression accuracy and F1 score \\n\")\n",
    "print (\"Accuracy {:.5}\".format(lr_acc))\n",
    "print (\"F1 {:.5}\".format(lr_F1))\n",
    "print (\"Precision {:.5}\".format(lr_precision))\n",
    "print (\"Recall {:.5}\".format(lr_recall))"
   ]
  },
  {
   "cell_type": "code",
   "execution_count": 95,
   "metadata": {},
   "outputs": [
    {
     "name": "stderr",
     "output_type": "stream",
     "text": [
      "/Users/ashish/anaconda3/lib/python3.6/importlib/_bootstrap.py:219: RuntimeWarning: numpy.dtype size changed, may indicate binary incompatibility. Expected 96, got 88\n",
      "  return f(*args, **kwds)\n"
     ]
    }
   ],
   "source": [
    "from pandas_ml import ConfusionMatrix"
   ]
  },
  {
   "cell_type": "code",
   "execution_count": 99,
   "metadata": {},
   "outputs": [],
   "source": [
    "coeff = lr.coef_[0]"
   ]
  },
  {
   "cell_type": "code",
   "execution_count": 101,
   "metadata": {},
   "outputs": [
    {
     "data": {
      "text/plain": [
       "(306896,)"
      ]
     },
     "execution_count": 101,
     "metadata": {},
     "output_type": "execute_result"
    }
   ],
   "source": [
    "coeff.shape"
   ]
  },
  {
   "cell_type": "code",
   "execution_count": 114,
   "metadata": {},
   "outputs": [
    {
     "data": {
      "text/plain": [
       "scipy.sparse.csr.csr_matrix"
      ]
     },
     "execution_count": 114,
     "metadata": {},
     "output_type": "execute_result"
    }
   ],
   "source": [
    "type(X_train_tfidf)"
   ]
  },
  {
   "cell_type": "code",
   "execution_count": 116,
   "metadata": {},
   "outputs": [
    {
     "data": {
      "text/plain": [
       "matrix([[0., 0., 0., ..., 0., 0., 0.],\n",
       "        [0., 0., 0., ..., 0., 0., 0.],\n",
       "        [0., 0., 0., ..., 0., 0., 0.],\n",
       "        ...,\n",
       "        [0., 0., 0., ..., 0., 0., 0.],\n",
       "        [0., 0., 0., ..., 0., 0., 0.],\n",
       "        [0., 0., 0., ..., 0., 0., 0.]])"
      ]
     },
     "execution_count": 116,
     "metadata": {},
     "output_type": "execute_result"
    }
   ],
   "source": [
    "X_train_tfidf.todense()"
   ]
  },
  {
   "cell_type": "code",
   "execution_count": 117,
   "metadata": {},
   "outputs": [],
   "source": [
    "top_n_index = np.argsort(coeff)[::-1][:20]"
   ]
  },
  {
   "cell_type": "code",
   "execution_count": 126,
   "metadata": {},
   "outputs": [
    {
     "data": {
      "text/plain": [
       "array([187635,  60916,  34310,  96735, 266485, 187839, 211366,  30411,\n",
       "       211379, 107032,  28111, 217865,  15898,  71355,  73609, 276806,\n",
       "       211449, 106793, 215920, 189587])"
      ]
     },
     "execution_count": 126,
     "metadata": {},
     "output_type": "execute_result"
    }
   ],
   "source": [
    "top_n_index"
   ]
  },
  {
   "cell_type": "code",
   "execution_count": 119,
   "metadata": {},
   "outputs": [],
   "source": [
    "feature_names = tfidf_vectorizer.get_feature_names()"
   ]
  },
  {
   "cell_type": "code",
   "execution_count": 124,
   "metadata": {},
   "outputs": [],
   "source": [
    "top_feat_tuple = [(feature_names[i], coeff[i]) for i in top_n_index]"
   ]
  },
  {
   "cell_type": "code",
   "execution_count": 125,
   "metadata": {},
   "outputs": [
    {
     "data": {
      "text/plain": [
       "[('news', 98.52157465550368),\n",
       " ('com contacts', 51.929872690282004),\n",
       " ('average rating', 42.86070155944254),\n",
       " ('embedded content', 40.25144631864945),\n",
       " ('story proactiveinvestors', 33.36318503483563),\n",
       " ('news immediate', 30.00000467735541),\n",
       " ('post', 28.613609931107735),\n",
       " ('article', 28.20279572531542),\n",
       " ('post appeared', 27.180963927045187),\n",
       " ('fact', 26.794956751738148),\n",
       " ('appeared', 21.91260461953178),\n",
       " ('profits', 21.220727202693364),\n",
       " ('___', 20.691664242296223),\n",
       " ('copyright', 20.54380645834675),\n",
       " ('course', 19.552703792783046),\n",
       " ('thanks', 18.84813448815011),\n",
       " ('post originally', 18.829608253507253),\n",
       " ('facebookshare twitter', 18.568213872752715),\n",
       " ('proactiveinvestors', 18.30234639190664),\n",
       " ('noted', 18.10447489098206)]"
      ]
     },
     "execution_count": 125,
     "metadata": {},
     "output_type": "execute_result"
    }
   ],
   "source": [
    "top_feat_tuple"
   ]
  },
  {
   "cell_type": "code",
   "execution_count": 104,
   "metadata": {},
   "outputs": [
    {
     "data": {
      "image/png": "[encoded data removed]",
      "text/plain": [
       "<matplotlib.figure.Figure at 0x1a174b07f0>"
      ]
     },
     "metadata": {},
     "output_type": "display_data"
    }
   ],
   "source": [
    "plot_confusion_matrix(y_test_predict_lr, y_test)"
   ]
  },
  {
   "cell_type": "markdown",
   "metadata": {},
   "source": [
    "\n",
    "### Random Forest"
   ]
  },
  {
   "cell_type": "code",
   "execution_count": 127,
   "metadata": {},
   "outputs": [],
   "source": [
    "from sklearn.ensemble import RandomForestClassifier"
   ]
  },
  {
   "cell_type": "code",
   "execution_count": 128,
   "metadata": {},
   "outputs": [
    {
     "data": {
      "text/plain": [
       "RandomForestClassifier(bootstrap=True, class_weight=None, criterion='gini',\n",
       "            max_depth=60, max_features='auto', max_leaf_nodes=None,\n",
       "            min_impurity_decrease=0.0, min_impurity_split=None,\n",
       "            min_samples_leaf=1, min_samples_split=5,\n",
       "            min_weight_fraction_leaf=0.0, n_estimators=50, n_jobs=1,\n",
       "            oob_score=False, random_state=None, verbose=0,\n",
       "            warm_start=False)"
      ]
     },
     "execution_count": 128,
     "metadata": {},
     "output_type": "execute_result"
    }
   ],
   "source": [
    "# Take almost one min\n",
    "rf = RandomForestClassifier(n_estimators=50,min_samples_split=5, max_depth=60)\n",
    "rf.fit(X_train_tfidf, y_train)"
   ]
  },
  {
   "cell_type": "code",
   "execution_count": 130,
   "metadata": {},
   "outputs": [],
   "source": [
    "y_test_predict_rf = rf.predict(X_test_tfidf)"
   ]
  },
  {
   "cell_type": "code",
   "execution_count": 131,
   "metadata": {},
   "outputs": [
    {
     "name": "stdout",
     "output_type": "stream",
     "text": [
      "Random Forest accuracy and F1 score \n",
      "\n",
      "Accuracy 88.821\n",
      "F1 71.36\n",
      "Precision 94.909\n",
      "Recall 57.174\n"
     ]
    }
   ],
   "source": [
    "rf_acc = accuracy_score(y_test, y_test_predict_rf) *  100 \n",
    "rf_F1 = f1_score(y_test, y_test_predict_rf) * 100\n",
    "rf_precision = precision_score(y_test, y_test_predict_rf) * 100\n",
    "rf_recall = recall_score(y_test, y_test_predict_rf) * 100\n",
    "print (\"Random Forest accuracy and F1 score \\n\")\n",
    "print (\"Accuracy {:.5}\".format(rf_acc))\n",
    "print (\"F1 {:.5}\".format(rf_F1))\n",
    "print (\"Precision {:.5}\".format(rf_precision))\n",
    "print (\"Recall {:.5}\".format(rf_recall))"
   ]
  },
  {
   "cell_type": "code",
   "execution_count": 111,
   "metadata": {},
   "outputs": [],
   "source": [
    "rf_features = rf.feature_importances_"
   ]
  },
  {
   "cell_type": "code",
   "execution_count": 112,
   "metadata": {},
   "outputs": [
    {
     "data": {
      "text/plain": [
       "array([5.48194064e-05, 0.00000000e+00, 0.00000000e+00, ...,\n",
       "       0.00000000e+00, 0.00000000e+00, 0.00000000e+00])"
      ]
     },
     "execution_count": 112,
     "metadata": {},
     "output_type": "execute_result"
    }
   ],
   "source": [
    "rf_features"
   ]
  },
  {
   "cell_type": "code",
   "execution_count": null,
   "metadata": {},
   "outputs": [],
   "source": [
    "plot_confusion_matrix(y_test_predict_rf, y_test)"
   ]
  },
  {
   "cell_type": "markdown",
   "metadata": {},
   "source": [
    "### SVM classifier"
   ]
  },
  {
   "cell_type": "code",
   "execution_count": 77,
   "metadata": {},
   "outputs": [],
   "source": [
    "from sklearn.svm import SVC\n",
    "svm = SVC(kernel = 'linear', probability = True, random_state = 0)"
   ]
  },
  {
   "cell_type": "code",
   "execution_count": 78,
   "metadata": {},
   "outputs": [],
   "source": [
    "#6.49 -> 7.38\n",
    "svm.fit(X_train_tfidf, y_train)\n",
    "y_test_predict_svm = svm.predict(X_test_tfidf)"
   ]
  },
  {
   "cell_type": "code",
   "execution_count": 79,
   "metadata": {},
   "outputs": [
    {
     "name": "stdout",
     "output_type": "stream",
     "text": [
      "SVM accuracy and F1 score \n",
      "\n",
      "Accuracy 93.825\n",
      "F1 87.324\n",
      "Precision 93.233\n",
      "Recall 82.119\n"
     ]
    }
   ],
   "source": [
    "svm_acc = accuracy_score(y_test, y_test_predict_svm) *  100 \n",
    "svm_F1 = f1_score(y_test, y_test_predict_svm) * 100\n",
    "svm_precision = precision_score(y_test, y_test_predict_svm) * 100\n",
    "svm_recall = recall_score(y_test, y_test_predict_svm) * 100\n",
    "print (\"SVM accuracy and F1 score \\n\")\n",
    "print (\"Accuracy {:.5}\".format(svm_acc))\n",
    "print (\"F1 {:.5}\".format(svm_F1))\n",
    "print (\"Precision {:.5}\".format(svm_precision))\n",
    "print (\"Recall {:.5}\".format(svm_recall))"
   ]
  },
  {
   "cell_type": "code",
   "execution_count": null,
   "metadata": {},
   "outputs": [],
   "source": [
    "plot_confusion_matrix(y_test_predict_svm, y_test)"
   ]
  },
  {
   "cell_type": "markdown",
   "metadata": {},
   "source": [
    "### Boosting using Adaboost"
   ]
  },
  {
   "cell_type": "code",
   "execution_count": 132,
   "metadata": {},
   "outputs": [],
   "source": [
    "from sklearn.ensemble import AdaBoostClassifier\n",
    "from sklearn.tree import DecisionTreeClassifier"
   ]
  },
  {
   "cell_type": "code",
   "execution_count": 133,
   "metadata": {},
   "outputs": [],
   "source": [
    "ada = AdaBoostClassifier(algorithm = \"SAMME.R\", n_estimators = 100)"
   ]
  },
  {
   "cell_type": "code",
   "execution_count": 134,
   "metadata": {},
   "outputs": [],
   "source": [
    "# takes some time\n",
    "ada.fit(X_train_tfidf, y_train)\n",
    "y_test_predict_ada = ada.predict(X_test_tfidf)"
   ]
  },
  {
   "cell_type": "code",
   "execution_count": 135,
   "metadata": {},
   "outputs": [
    {
     "name": "stdout",
     "output_type": "stream",
     "text": [
      "AdaBoost accuracy and F1 score \n",
      "\n",
      "Accuracy 93.89\n",
      "F1 87.493\n",
      "Precision 87.255\n",
      "Recall 87.733\n"
     ]
    }
   ],
   "source": [
    "ada_acc = accuracy_score(y_test, y_test_predict_ada) *  100 \n",
    "ada_F1 = f1_score(y_test, y_test_predict_ada) * 100\n",
    "ada_precision = precision_score(y_test, y_test_predict_ada) * 100\n",
    "ada_recall = recall_score(y_test, y_test_predict_ada) * 100\n",
    "print (\"AdaBoost accuracy and F1 score \\n\")\n",
    "print (\"Accuracy {:.5}\".format(ada_acc))\n",
    "print (\"F1 {:.5}\".format(ada_F1))\n",
    "print (\"Precision {:.5}\".format(ada_precision))\n",
    "print (\"Recall {:.5}\".format(ada_recall))"
   ]
  },
  {
   "cell_type": "code",
   "execution_count": null,
   "metadata": {},
   "outputs": [],
   "source": [
    "plot_confusion_matrix(y_test_predict_ada, y_test)"
   ]
  },
  {
   "cell_type": "markdown",
   "metadata": {},
   "source": [
    "### Lets plot ROC curve for various models\n",
    "\n",
    "Import necessary library for ploting\n"
   ]
  },
  {
   "cell_type": "code",
   "execution_count": null,
   "metadata": {},
   "outputs": [],
   "source": [
    "from sklearn.metrics import confusion_matrix\n",
    "import matplotlib.pyplot as plt\n",
    "import seaborn as sns\n",
    "import sklearn.metrics as skm\n",
    "from sklearn.metrics import roc_curve, roc_auc_score\n",
    "%matplotlib inline"
   ]
  },
  {
   "cell_type": "code",
   "execution_count": null,
   "metadata": {},
   "outputs": [],
   "source": [
    "# First calculate predicted probabilities for all the models\n",
    "nb_probs = nb.predict_proba(X_test_tfidf)[:, 1]\n",
    "lr_probs = lr.predict_proba(X_test_tfidf)[:, 1]\n",
    "rf_probs = rf.predict_proba(X_test_tfidf)[:, 1]\n",
    "ada_probs = ada.predict_proba(X_test_tfidf)[:, 1]\n",
    "svm_probs = svm.predict_proba(X_test_tfidf)[:, 1]\n",
    "\n",
    "#fpr, tpr, threshold = roc_curve(y_test, preds)\n",
    "fpr_nb, tpr_nb, thresholds_nb = skm.roc_curve(y_test, nb_probs)\n",
    "fpr_lr, tpr_lr, thresholds_lr = skm.roc_curve(y_test, lr_probs)\n",
    "fpr_rf, tpr_rf, thresholds_rf = skm.roc_curve(y_test, rf_probs)\n",
    "fpr_ada, tpr_ada, thresholds_ada = skm.roc_curve(y_test, ada_probs)\n",
    "fpr_svm, tpr_svm, thresholds_svm = skm.roc_curve(y_test, svm_probs)\n",
    "\n",
    "\n",
    "roc_auc_nb = skm.auc(fpr_nb, tpr_nb)\n",
    "roc_auc_lr = skm.auc(fpr_lr, tpr_lr)\n",
    "roc_auc_rf = skm.auc(fpr_rf, tpr_rf)\n",
    "roc_auc_ada = skm.auc(fpr_ada, tpr_ada)\n",
    "roc_auc_svm = skm.auc(fpr_svm, tpr_svm)"
   ]
  },
  {
   "cell_type": "code",
   "execution_count": null,
   "metadata": {},
   "outputs": [],
   "source": [
    "roc_auc_nb, roc_auc_lr, roc_auc_rf, roc_auc_ada, roc_auc_svm"
   ]
  },
  {
   "cell_type": "code",
   "execution_count": null,
   "metadata": {},
   "outputs": [],
   "source": [
    "#Now plot these values\n",
    "plt.title('ROC (Receiver Operating Characteristic)')\n",
    "plt.plot(fpr_nb, tpr_nb, 'b', label = 'NaiveBayes :AUC = %0.2f' % roc_auc_nb)\n",
    "plt.plot(fpr_lr, tpr_lr, 'g', label = 'LogReg :AUC = %0.2f' % roc_auc_lr)\n",
    "plt.plot(fpr_rf, tpr_rf, 'r', label = 'RandForest :AUC = %0.2f' % roc_auc_rf)\n",
    "plt.plot(fpr_ada, tpr_ada, 'r', label = 'AdaBoost :AUC = %0.2f' % roc_auc_ada)\n",
    "plt.plot(fpr_svm, tpr_svm, 'r', label = 'SVM :AUC = %0.2f' % roc_auc_svm)\n",
    "plt.legend(loc = 'lower right')\n",
    "plt.plot([0, 1], [0, 1],'r--')\n",
    "plt.xlim([0, 1])\n",
    "plt.ylim([0, 1])\n",
    "plt.xlabel(\"False Positive Rate (1 - Specificity)\")\n",
    "plt.ylabel(\"True Positive Rate (Sensitivity, Recall)\")\n",
    "plt.show()"
   ]
  },
  {
   "cell_type": "code",
   "execution_count": null,
   "metadata": {},
   "outputs": [],
   "source": [
    "import sklearn.metrics as skm\n",
    "skm.roc_auc_score(y_test, y_test_predict_nb),  skm.roc_auc_score(y_test, y_test_predict_lr), skm.roc_auc_score(y_test, y_test_predict_rf)"
   ]
  },
  {
   "cell_type": "markdown",
   "metadata": {},
   "source": [
    "#### To see only one ROC curve,\n",
    "\n",
    "Explore why ROC is not giving us correct curve. I can clearly see I am getting bad performance in case of Naive Bayes and its roc_auc_score when calculated is also 0.72. But when using roc_curve from sklearn.metrics somehow the fpr and tpr are not coming correctly??? Below is just a "
   ]
  },
  {
   "cell_type": "code",
   "execution_count": null,
   "metadata": {},
   "outputs": [],
   "source": [
    "nb_probs = nb.predict_proba(X_test_tfidf)[:, 1]\n",
    "fpr_nb, tpr_nb, thresholds_nb = roc_curve(y_test, nb_probs)\n",
    "roc_auc_nb = skm.auc(fpr_nb, tpr_nb)\n",
    "plt.title('ROC (Receiver Operating Characteristic)')\n",
    "plt.plot(fpr_nb, tpr_nb, 'b', label = 'NaiveBayes: AUC = %0.2f' % roc_auc_nb)\n",
    "plt.legend(loc = 'lower right')\n",
    "plt.plot([0, 1], [0, 1],'r--')\n",
    "plt.xlim([0, 1])\n",
    "plt.ylim([0, 1])\n",
    "plt.xlabel(\"False Positive Rate (1 - Specificity)\")\n",
    "plt.ylabel(\"True Positive Rate (Sensitivity, Recall)\")\n",
    "plt.show()\n",
    "\n"
   ]
  }
 ],
 "metadata": {
  "kernelspec": {
   "display_name": "Python 3",
   "language": "python",
   "name": "python3"
  },
  "language_info": {
   "codemirror_mode": {
    "name": "ipython",
    "version": 3
   },
   "file_extension": ".py",
   "mimetype": "text/x-python",
   "name": "python",
   "nbconvert_exporter": "python",
   "pygments_lexer": "ipython3",
   "version": "3.6.4"
  }
 },
 "nbformat": 4,
 "nbformat_minor": 2
}
