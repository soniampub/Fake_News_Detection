{
 "cells": [
  {
   "cell_type": "code",
   "execution_count": 220,
   "metadata": {},
   "outputs": [],
   "source": [
    "import numpy as np\n",
    "import pandas as pd \n",
    "import nltk\n",
    "from nltk.tokenize import word_tokenize\n",
    "from nltk.tokenize import PunktSentenceTokenizer , TreebankWordTokenizer\n",
    "from nltk.stem import PorterStemmer\n",
    "from nltk.stem import WordNetLemmatizer\n",
    "from sklearn.feature_extraction.stop_words import ENGLISH_STOP_WORDS\n",
    "from nltk.corpus import stopwords\n",
    "from sklearn.model_selection import train_test_split\n",
    "from sklearn.feature_extraction.text import CountVectorizer, TfidfVectorizer\n",
    "from sklearn.linear_model import LogisticRegression\n",
    "from sklearn.cross_validation import cross_val_score\n",
    "from sklearn.metrics import f1_score, accuracy_score , recall_score , precision_score\n",
    "import pickle\n",
    "from nltk.tokenize import word_tokenize, PunktSentenceTokenizer, TreebankWordTokenizer\n",
    "from nltk.corpus import stopwords\n",
    "from nltk.stem.porter import PorterStemmer\n",
    "from nltk.stem.snowball import SnowballStemmer\n",
    "from nltk.stem.wordnet import WordNetLemmatizer\n"
   ]
  },
  {
   "cell_type": "code",
   "execution_count": 195,
   "metadata": {},
   "outputs": [],
   "source": [
    "df_all = pd.read_pickle('data/all_data.pkl')\n",
    "#Do this once, only when your data is changed \n",
    "# df_train = df_all.sample(frac=0.7)\n",
    "# df_test = df_all.loc[~df_all.index.isin(df_train.index), :]\n",
    "# #pickle these for grid search\n",
    "# df_train.to_pickle('data/data_train.pkl')\n",
    "# df_test.to_pickle('data/data_test.pkl')"
   ]
  },
  {
   "cell_type": "code",
   "execution_count": 196,
   "metadata": {},
   "outputs": [
    {
     "data": {
      "text/html": [
       "<div>\n",
       "<style scoped>\n",
       "    .dataframe tbody tr th:only-of-type {\n",
       "        vertical-align: middle;\n",
       "    }\n",
       "\n",
       "    .dataframe tbody tr th {\n",
       "        vertical-align: top;\n",
       "    }\n",
       "\n",
       "    .dataframe thead th {\n",
       "        text-align: right;\n",
       "    }\n",
       "</style>\n",
       "<table border=\"1\" class=\"dataframe\">\n",
       "  <thead>\n",
       "    <tr style=\"text-align: right;\">\n",
       "      <th></th>\n",
       "      <th>content</th>\n",
       "      <th>id</th>\n",
       "      <th>label</th>\n",
       "      <th>media-type</th>\n",
       "      <th>published</th>\n",
       "      <th>source</th>\n",
       "      <th>title</th>\n",
       "    </tr>\n",
       "  </thead>\n",
       "  <tbody>\n",
       "    <tr>\n",
       "      <th>0</th>\n",
       "      <td>(Before It's News)  \\n\\nBEA Revises 2nd Quarte...</td>\n",
       "      <td>09418d4b-e5fa-4273-84d7-a3ea43a78f4d</td>\n",
       "      <td>1</td>\n",
       "      <td>News</td>\n",
       "      <td>2015-09-26T01:44:30Z</td>\n",
       "      <td>Before It's News</td>\n",
       "      <td>BEA Deflates GDP Higher</td>\n",
       "    </tr>\n",
       "    <tr>\n",
       "      <th>1</th>\n",
       "      <td>Obama reportedly eager to assist. TEHRAN (FNA)...</td>\n",
       "      <td>bf6d6b0e-584b-4ea9-aad7-f669f95cde6c</td>\n",
       "      <td>1</td>\n",
       "      <td>Blog</td>\n",
       "      <td>2015-09-04T13:25:11Z</td>\n",
       "      <td>Weasel Zippers</td>\n",
       "      <td>Iranian Commander Vows To Continue Weapons Bui...</td>\n",
       "    </tr>\n",
       "  </tbody>\n",
       "</table>\n",
       "</div>"
      ],
      "text/plain": [
       "                                             content  \\\n",
       "0  (Before It's News)  \\n\\nBEA Revises 2nd Quarte...   \n",
       "1  Obama reportedly eager to assist. TEHRAN (FNA)...   \n",
       "\n",
       "                                     id  label media-type  \\\n",
       "0  09418d4b-e5fa-4273-84d7-a3ea43a78f4d      1       News   \n",
       "1  bf6d6b0e-584b-4ea9-aad7-f669f95cde6c      1       Blog   \n",
       "\n",
       "              published            source  \\\n",
       "0  2015-09-26T01:44:30Z  Before It's News   \n",
       "1  2015-09-04T13:25:11Z    Weasel Zippers   \n",
       "\n",
       "                                               title  \n",
       "0                            BEA Deflates GDP Higher  \n",
       "1  Iranian Commander Vows To Continue Weapons Bui...  "
      ]
     },
     "execution_count": 196,
     "metadata": {},
     "output_type": "execute_result"
    }
   ],
   "source": [
    "df_all.head(2)"
   ]
  },
  {
   "cell_type": "code",
   "execution_count": 197,
   "metadata": {},
   "outputs": [
    {
     "data": {
      "text/plain": [
       "7852"
      ]
     },
     "execution_count": 197,
     "metadata": {},
     "output_type": "execute_result"
    }
   ],
   "source": [
    "len(df_all)"
   ]
  },
  {
   "cell_type": "code",
   "execution_count": 198,
   "metadata": {},
   "outputs": [],
   "source": [
    "df_train = pd.read_pickle('data/data_train.pkl')\n",
    "df_test = pd.read_pickle('data/data_test.pkl')"
   ]
  },
  {
   "cell_type": "code",
   "execution_count": 199,
   "metadata": {},
   "outputs": [
    {
     "data": {
      "text/html": [
       "<div>\n",
       "<style scoped>\n",
       "    .dataframe tbody tr th:only-of-type {\n",
       "        vertical-align: middle;\n",
       "    }\n",
       "\n",
       "    .dataframe tbody tr th {\n",
       "        vertical-align: top;\n",
       "    }\n",
       "\n",
       "    .dataframe thead th {\n",
       "        text-align: right;\n",
       "    }\n",
       "</style>\n",
       "<table border=\"1\" class=\"dataframe\">\n",
       "  <thead>\n",
       "    <tr style=\"text-align: right;\">\n",
       "      <th></th>\n",
       "      <th>content</th>\n",
       "      <th>id</th>\n",
       "      <th>media-type</th>\n",
       "      <th>published</th>\n",
       "      <th>source</th>\n",
       "      <th>title</th>\n",
       "    </tr>\n",
       "    <tr>\n",
       "      <th>label</th>\n",
       "      <th></th>\n",
       "      <th></th>\n",
       "      <th></th>\n",
       "      <th></th>\n",
       "      <th></th>\n",
       "      <th></th>\n",
       "    </tr>\n",
       "  </thead>\n",
       "  <tbody>\n",
       "    <tr>\n",
       "      <th>0</th>\n",
       "      <td>3255</td>\n",
       "      <td>3255</td>\n",
       "      <td>3255</td>\n",
       "      <td>3255</td>\n",
       "      <td>3255</td>\n",
       "      <td>3255</td>\n",
       "    </tr>\n",
       "    <tr>\n",
       "      <th>1</th>\n",
       "      <td>2241</td>\n",
       "      <td>2241</td>\n",
       "      <td>2241</td>\n",
       "      <td>2241</td>\n",
       "      <td>2241</td>\n",
       "      <td>2241</td>\n",
       "    </tr>\n",
       "  </tbody>\n",
       "</table>\n",
       "</div>"
      ],
      "text/plain": [
       "       content    id  media-type  published  source  title\n",
       "label                                                     \n",
       "0         3255  3255        3255       3255    3255   3255\n",
       "1         2241  2241        2241       2241    2241   2241"
      ]
     },
     "execution_count": 199,
     "metadata": {},
     "output_type": "execute_result"
    }
   ],
   "source": [
    "df_train.groupby('label').count()"
   ]
  },
  {
   "cell_type": "code",
   "execution_count": 200,
   "metadata": {},
   "outputs": [
    {
     "data": {
      "text/html": [
       "<div>\n",
       "<style scoped>\n",
       "    .dataframe tbody tr th:only-of-type {\n",
       "        vertical-align: middle;\n",
       "    }\n",
       "\n",
       "    .dataframe tbody tr th {\n",
       "        vertical-align: top;\n",
       "    }\n",
       "\n",
       "    .dataframe thead th {\n",
       "        text-align: right;\n",
       "    }\n",
       "</style>\n",
       "<table border=\"1\" class=\"dataframe\">\n",
       "  <thead>\n",
       "    <tr style=\"text-align: right;\">\n",
       "      <th></th>\n",
       "      <th>content</th>\n",
       "      <th>id</th>\n",
       "      <th>media-type</th>\n",
       "      <th>published</th>\n",
       "      <th>source</th>\n",
       "      <th>title</th>\n",
       "    </tr>\n",
       "    <tr>\n",
       "      <th>label</th>\n",
       "      <th></th>\n",
       "      <th></th>\n",
       "      <th></th>\n",
       "      <th></th>\n",
       "      <th></th>\n",
       "      <th></th>\n",
       "    </tr>\n",
       "  </thead>\n",
       "  <tbody>\n",
       "    <tr>\n",
       "      <th>0</th>\n",
       "      <td>1385</td>\n",
       "      <td>1385</td>\n",
       "      <td>1385</td>\n",
       "      <td>1385</td>\n",
       "      <td>1385</td>\n",
       "      <td>1385</td>\n",
       "    </tr>\n",
       "    <tr>\n",
       "      <th>1</th>\n",
       "      <td>971</td>\n",
       "      <td>971</td>\n",
       "      <td>971</td>\n",
       "      <td>971</td>\n",
       "      <td>971</td>\n",
       "      <td>971</td>\n",
       "    </tr>\n",
       "  </tbody>\n",
       "</table>\n",
       "</div>"
      ],
      "text/plain": [
       "       content    id  media-type  published  source  title\n",
       "label                                                     \n",
       "0         1385  1385        1385       1385    1385   1385\n",
       "1          971   971         971        971     971    971"
      ]
     },
     "execution_count": 200,
     "metadata": {},
     "output_type": "execute_result"
    }
   ],
   "source": [
    "df_test.groupby('label').count()"
   ]
  },
  {
   "cell_type": "code",
   "execution_count": 201,
   "metadata": {},
   "outputs": [],
   "source": [
    "#change above X if we r using tokenize and other nlp process\n",
    "X_train = df_train['content']\n",
    "y_train = df_train['label']\n",
    "X_test = df_test['content']\n",
    "y_test = df_test['label']"
   ]
  },
  {
   "cell_type": "code",
   "execution_count": 202,
   "metadata": {},
   "outputs": [],
   "source": [
    "# tfidf_vectorizer  = TfidfVectorizer(stop_words=ENGLISH_STOP_WORDS, ngram_range=(1,2), max_df= 0.85, min_df= 2)\n",
    "\n",
    "# #takes around 2-3 mins\n",
    "# X_train_tfidf = tfidf_vectorizer.fit_transform(X_train)\n",
    "# X_test_tfidf = tfidf_vectorizer.transform(X_test)"
   ]
  },
  {
   "cell_type": "code",
   "execution_count": 225,
   "metadata": {},
   "outputs": [],
   "source": [
    "#load Xtrain_tfidf from stored pickle\n",
    "with open('data/X_train_tfidf.pkl', 'rb') as input:\n",
    "    X_train_tfidf = pickle.load(input)\n",
    "    \n",
    "with open('data/X_test_tfidf.pkl', 'rb') as input:\n",
    "    X_test_tfidf = pickle.load(input)\n",
    "    \n",
    "with open('data/y_train_spacy.pkl', 'rb') as input:\n",
    "    y_train = pickle.load(input)\n",
    "    \n",
    "with open('data/y_test_spacy.pkl', 'rb') as input:\n",
    "    y_test = pickle.load(input)"
   ]
  },
  {
   "cell_type": "markdown",
   "metadata": {},
   "source": [
    "### Create Confusion Matrix"
   ]
  },
  {
   "cell_type": "code",
   "execution_count": 281,
   "metadata": {},
   "outputs": [],
   "source": [
    "from sklearn.metrics import confusion_matrix\n",
    "import matplotlib.pyplot as plt\n",
    "import seaborn as sns\n",
    "%matplotlib inline\n",
    "\n",
    "def plot_confusion_matrix(y_pred, y_true):\n",
    "    '''Code stolen brazenly from sklearn example.'''\n",
    "    cm = confusion_matrix(y_true, y_pred)\n",
    "    ax= plt.subplot()\n",
    "    sns.heatmap(cm, cmap = plt.get_cmap('Blues'), annot=True, ax = ax, fmt='g'); #annot=True to annotate cells\n",
    "\n",
    "    # labels, title and ticks\n",
    "    ax.set_ylabel('Predicted labels');ax.set_xlabel('True labels'); \n",
    "    ax.set_title('Confusion Matrix'); \n",
    "    ax.xaxis.set_ticklabels(['Fake', 'Real']); ax.yaxis.set_ticklabels(['Fake', 'Real']);\n"
   ]
  },
  {
   "cell_type": "code",
   "execution_count": 228,
   "metadata": {},
   "outputs": [],
   "source": [
    "def print_model_scores(y_actual, y_predicted, model_name):\n",
    "    accuracy = accuracy_score(y_actual, y_predicted) *  100 \n",
    "    f1 = f1_score(y_actual, y_predicted) * 100\n",
    "    precision = precision_score(y_actual, y_predicted) * 100\n",
    "    recall = recall_score(y_actual, y_predicted) * 100\n",
    "    print (\"{} accuracy and F1 score \\n\".format(model_name))\n",
    "    print (\"Accuracy {:.5}\".format(accuracy))\n",
    "    print (\"F1 {:.5}\".format(f1))\n",
    "    print (\"Precision {:.5}\".format(precision))\n",
    "    print (\"Recall {:.5}\".format(recall))\n",
    "    \n",
    "    "
   ]
  },
  {
   "cell_type": "markdown",
   "metadata": {},
   "source": [
    "## Modeling\n",
    "\n",
    "### Naive Bayes"
   ]
  },
  {
   "cell_type": "code",
   "execution_count": 226,
   "metadata": {},
   "outputs": [],
   "source": [
    "from sklearn.naive_bayes import MultinomialNB\n",
    "nb = MultinomialNB()\n",
    "nb = nb.fit(X_train_tfidf, y_train)\n",
    "y_test_predict_nb = nb.predict(X_test_tfidf)"
   ]
  },
  {
   "cell_type": "code",
   "execution_count": 229,
   "metadata": {},
   "outputs": [
    {
     "name": "stdout",
     "output_type": "stream",
     "text": [
      "Naive Bayes accuracy and F1 score \n",
      "\n",
      "Accuracy 81.971\n",
      "F1 73.997\n",
      "Precision 70.672\n",
      "Recall 77.651\n"
     ]
    }
   ],
   "source": [
    "print_model_scores(y_test, y_test_predict_nb, \"Naive Bayes\")"
   ]
  },
  {
   "cell_type": "markdown",
   "metadata": {},
   "source": [
    "### Logistic Regression"
   ]
  },
  {
   "cell_type": "code",
   "execution_count": 231,
   "metadata": {},
   "outputs": [],
   "source": [
    "# using optimal parameters from grid search (l1 and 10)\n",
    "lr = LogisticRegression(penalty='l1', C = 10)\n",
    "lr.fit(X_train_tfidf, y_train)\n",
    "y_test_predict_lr = lr.predict(X_test_tfidf)"
   ]
  },
  {
   "cell_type": "code",
   "execution_count": 249,
   "metadata": {},
   "outputs": [
    {
     "name": "stdout",
     "output_type": "stream",
     "text": [
      "Logistic regression accuracy and F1 score \n",
      "\n",
      "Accuracy 89.32\n",
      "F1 83.692\n",
      "Precision 84.444\n",
      "Recall 82.952\n"
     ]
    }
   ],
   "source": [
    "print_model_scores(y_test, y_test_predict_lr, \"Logistic regression\")"
   ]
  },
  {
   "cell_type": "code",
   "execution_count": 241,
   "metadata": {},
   "outputs": [
    {
     "data": {
      "text/plain": [
       "(5000,)"
      ]
     },
     "execution_count": 241,
     "metadata": {},
     "output_type": "execute_result"
    }
   ],
   "source": [
    "coeff = lr.coef_[0]\n",
    "coeff.shape"
   ]
  },
  {
   "cell_type": "code",
   "execution_count": 242,
   "metadata": {},
   "outputs": [
    {
     "data": {
      "text/plain": [
       "array([2091, 4408, 3426,  274,  235, 3132, 1407,  346, 4974, 3425,  494,\n",
       "        658, 4843,  967, 4279, 1485, 4692,  974, 3702, 1684])"
      ]
     },
     "execution_count": 242,
     "metadata": {},
     "output_type": "execute_result"
    }
   ],
   "source": [
    "top_n_index = np.argsort(coeff)[::-1][:20]\n",
    "print(top_n_index)\n",
    "with open('data/tfidf_featurenames_spacy.pkl', 'rb') as input:\n",
    "    featurenames_spacy = pickle.load(input)\n",
    "\n",
    "    #feature_names = tfidf_vectorizer.get_feature_names()\n",
    "top_feat_tuple = [(featurenames_spacy[i], coeff[i]) for i in top_n_index]\n",
    "\n",
    "print(top_feat_tuple)"
   ]
  },
  {
   "cell_type": "code",
   "execution_count": 282,
   "metadata": {},
   "outputs": [
    {
     "data": {
      "image/png": "[encoded data removed]",
      "text/plain": [
       "<matplotlib.figure.Figure at 0x1a194e3ef0>"
      ]
     },
     "metadata": {},
     "output_type": "display_data"
    }
   ],
   "source": [
    "plot_confusion_matrix(y_test_predict_lr, y_test)"
   ]
  },
  {
   "cell_type": "markdown",
   "metadata": {},
   "source": [
    "\n",
    "### Random Forest"
   ]
  },
  {
   "cell_type": "code",
   "execution_count": 247,
   "metadata": {},
   "outputs": [],
   "source": [
    "from sklearn.ensemble import RandomForestClassifier\n",
    "rf = RandomForestClassifier(n_estimators=50,min_samples_split=5, max_depth=60)\n",
    "rf.fit(X_train_tfidf, y_train)\n",
    "y_test_predict_rf = rf.predict(X_test_tfidf)"
   ]
  },
  {
   "cell_type": "code",
   "execution_count": 252,
   "metadata": {},
   "outputs": [
    {
     "name": "stdout",
     "output_type": "stream",
     "text": [
      "Random Forest accuracy and F1 score \n",
      "\n",
      "Accuracy 89.389\n",
      "F1 82.956\n",
      "Precision 88.367\n",
      "Recall 78.17\n"
     ]
    }
   ],
   "source": [
    "print_model_scores(y_test, y_test_predict_rf, \"Random Forest\")"
   ]
  },
  {
   "cell_type": "code",
   "execution_count": 283,
   "metadata": {},
   "outputs": [
    {
     "data": {
      "image/png": "[encoded data removed]",
      "text/plain": [
       "<matplotlib.figure.Figure at 0x1a183f12e8>"
      ]
     },
     "metadata": {},
     "output_type": "display_data"
    }
   ],
   "source": [
    "plot_confusion_matrix(y_test_predict_rf, y_test)"
   ]
  },
  {
   "cell_type": "markdown",
   "metadata": {},
   "source": [
    "### SVM classifier"
   ]
  },
  {
   "cell_type": "code",
   "execution_count": 259,
   "metadata": {},
   "outputs": [],
   "source": [
    "from sklearn.svm import SVC\n",
    "svm = SVC(kernel = 'linear', probability = True, random_state = 0)"
   ]
  },
  {
   "cell_type": "code",
   "execution_count": 260,
   "metadata": {},
   "outputs": [],
   "source": [
    "#6.49 -> 7.38\n",
    "svm.fit(X_train_tfidf, y_train)\n",
    "y_test_predict_svm = svm.predict(X_test_tfidf)"
   ]
  },
  {
   "cell_type": "code",
   "execution_count": 261,
   "metadata": {},
   "outputs": [
    {
     "name": "stdout",
     "output_type": "stream",
     "text": [
      "SVM accuracy and F1 score \n",
      "\n",
      "Accuracy 88.908\n",
      "F1 82.474\n",
      "Precision 86.266\n",
      "Recall 79.002\n"
     ]
    }
   ],
   "source": [
    "print_model_scores(y_test, y_test_predict_svm, \"SVM\")"
   ]
  },
  {
   "cell_type": "code",
   "execution_count": 284,
   "metadata": {},
   "outputs": [
    {
     "data": {
      "image/png": "[encoded data removed]",
      "text/plain": [
       "<matplotlib.figure.Figure at 0x1a2ad3ff98>"
      ]
     },
     "metadata": {},
     "output_type": "display_data"
    }
   ],
   "source": [
    "plot_confusion_matrix(y_test_predict_svm, y_test)"
   ]
  },
  {
   "cell_type": "markdown",
   "metadata": {},
   "source": [
    "### Boosting using Adaboost"
   ]
  },
  {
   "cell_type": "code",
   "execution_count": 257,
   "metadata": {},
   "outputs": [],
   "source": [
    "from sklearn.ensemble import AdaBoostClassifier\n",
    "ada = AdaBoostClassifier(algorithm = \"SAMME.R\", n_estimators = 50)\n",
    "ada.fit(X_train_tfidf, y_train)\n",
    "y_test_predict_ada = ada.predict(X_test_tfidf)"
   ]
  },
  {
   "cell_type": "code",
   "execution_count": 258,
   "metadata": {},
   "outputs": [
    {
     "name": "stdout",
     "output_type": "stream",
     "text": [
      "AdaBoost accuracy and F1 score \n",
      "\n",
      "Accuracy 87.054\n",
      "F1 80.736\n",
      "Precision 79.397\n",
      "Recall 82.121\n"
     ]
    }
   ],
   "source": [
    "print_model_scores(y_test, y_test_predict_ada, \"AdaBoost\")"
   ]
  },
  {
   "cell_type": "code",
   "execution_count": 285,
   "metadata": {},
   "outputs": [
    {
     "data": {
      "image/png": "[encoded data removed]",
      "text/plain": [
       "<matplotlib.figure.Figure at 0x1a1535fcf8>"
      ]
     },
     "metadata": {},
     "output_type": "display_data"
    }
   ],
   "source": [
    "plot_confusion_matrix(y_test_predict_ada, y_test)"
   ]
  },
  {
   "cell_type": "markdown",
   "metadata": {},
   "source": [
    "### Lets plot ROC curve for various models"
   ]
  },
  {
   "cell_type": "code",
   "execution_count": 286,
   "metadata": {},
   "outputs": [],
   "source": [
    "from sklearn.metrics import confusion_matrix\n",
    "import matplotlib.pyplot as plt\n",
    "import seaborn as sns\n",
    "import sklearn.metrics as skm\n",
    "from sklearn.metrics import roc_curve, roc_auc_score\n",
    "%matplotlib inline"
   ]
  },
  {
   "cell_type": "code",
   "execution_count": 287,
   "metadata": {},
   "outputs": [],
   "source": [
    "# First calculate predicted probabilities for all the models\n",
    "nb_probs = nb.predict_proba(X_test_tfidf)[:, 1]\n",
    "lr_probs = lr.predict_proba(X_test_tfidf)[:, 1]\n",
    "rf_probs = rf.predict_proba(X_test_tfidf)[:, 1]\n",
    "ada_probs = ada.predict_proba(X_test_tfidf)[:, 1]\n",
    "svm_probs = svm.predict_proba(X_test_tfidf)[:, 1]\n",
    "\n",
    "#fpr, tpr, threshold = roc_curve(y_test, preds)\n",
    "fpr_nb, tpr_nb, thresholds_nb = skm.roc_curve(y_test, nb_probs)\n",
    "fpr_lr, tpr_lr, thresholds_lr = skm.roc_curve(y_test, lr_probs)\n",
    "fpr_rf, tpr_rf, thresholds_rf = skm.roc_curve(y_test, rf_probs)\n",
    "fpr_ada, tpr_ada, thresholds_ada = skm.roc_curve(y_test, ada_probs)\n",
    "fpr_svm, tpr_svm, thresholds_svm = skm.roc_curve(y_test, svm_probs)"
   ]
  },
  {
   "cell_type": "code",
   "execution_count": 289,
   "metadata": {},
   "outputs": [],
   "source": [
    "import sklearn.metrics as skm\n",
    "roc_auc_nb = skm.roc_auc_score(y_test, y_test_predict_nb)\n",
    "roc_auc_lr = skm.roc_auc_score(y_test, y_test_predict_lr)\n",
    "roc_auc_rf = skm.roc_auc_score(y_test, y_test_predict_rf)\n",
    "roc_auc_ada = skm.roc_auc_score(y_test, y_test_predict_ada)\n",
    "roc_auc_svm = skm.roc_auc_score(y_test, y_test_predict_svm)"
   ]
  },
  {
   "cell_type": "code",
   "execution_count": 293,
   "metadata": {},
   "outputs": [
    {
     "data": {
      "image/png": "[encoded data removed]",
      "text/plain": [
       "<matplotlib.figure.Figure at 0x1a18872438>"
      ]
     },
     "metadata": {},
     "output_type": "display_data"
    }
   ],
   "source": [
    "#Now plot these values\n",
    "plt.title('ROC Curve')\n",
    "plt.plot(fpr_nb, tpr_nb, label = 'NaiveBayes: AUC = %0.2f' % roc_auc_nb)\n",
    "plt.plot(fpr_lr, tpr_lr, label = 'LogReg: AUC = %0.2f' % roc_auc_lr)\n",
    "plt.plot(fpr_rf, tpr_rf, label = 'RandForest: AUC = %0.2f' % roc_auc_rf)\n",
    "plt.plot(fpr_ada, tpr_ada, label = 'AdaBoost: AUC = %0.2f' % roc_auc_ada)\n",
    "plt.plot(fpr_svm, tpr_svm, label = 'SVM: AUC = %0.2f' % roc_auc_svm)\n",
    "plt.legend(loc = 'lower right')\n",
    "plt.plot([0, 1], [0, 1],'r--')\n",
    "plt.xlim([0, 1])\n",
    "plt.ylim([0, 1])\n",
    "plt.xlabel(\"False Positive Rate (1 - Specificity)\")\n",
    "plt.ylabel(\"True Positive Rate (Sensitivity, Recall)\")\n",
    "plt.show()"
   ]
  }
 ],
 "metadata": {
  "kernelspec": {
   "display_name": "Python 3",
   "language": "python",
   "name": "python3"
  },
  "language_info": {
   "codemirror_mode": {
    "name": "ipython",
    "version": 3
   },
   "file_extension": ".py",
   "mimetype": "text/x-python",
   "name": "python",
   "nbconvert_exporter": "python",
   "pygments_lexer": "ipython3",
   "version": "3.6.4"
  }
 },
 "nbformat": 4,
 "nbformat_minor": 2
}
