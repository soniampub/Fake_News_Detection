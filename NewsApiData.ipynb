{
 "cells": [
  {
   "cell_type": "code",
   "execution_count": 9,
   "metadata": {},
   "outputs": [
    {
     "name": "stderr",
     "output_type": "stream",
     "text": [
      "/Users/ashish/anaconda3/lib/python3.6/importlib/_bootstrap.py:219: RuntimeWarning: numpy.dtype size changed, may indicate binary incompatibility. Expected 96, got 88\n",
      "  return f(*args, **kwds)\n"
     ]
    }
   ],
   "source": [
    "import requests\n",
    "import json\n",
    "import pandas as pd\n",
    "from os import makedirs\n",
    "from os.path import join, exists\n",
    "from datetime import date, timedelta"
   ]
  },
  {
   "cell_type": "code",
   "execution_count": 7,
   "metadata": {},
   "outputs": [],
   "source": [
    "API_ENDPOINT = 'https://newsapi.org/v2/everything'\n",
    "with open('newsapi-org.txt', 'r') as f:\n",
    "    API_KEY = f.read().strip()\n",
    "    \n",
    "DATA_DIR = join('data', 'ny_abc_articles')\n",
    "makedirs(DATA_DIR, exist_ok=True)"
   ]
  },
  {
   "cell_type": "code",
   "execution_count": 8,
   "metadata": {},
   "outputs": [
    {
     "data": {
      "text/plain": [
       "'3d2142f3c3b44c2596d5912c319e4f0f'"
      ]
     },
     "execution_count": 8,
     "metadata": {},
     "output_type": "execute_result"
    }
   ],
   "source": [
    "API_KEY"
   ]
  },
  {
   "cell_type": "code",
   "execution_count": 35,
   "metadata": {},
   "outputs": [],
   "source": [
    "search_params = {\n",
    "    'from': '2017-09-01',\n",
    "    'to': '2018-03-30',\n",
    "    'sortBy': 'popularity',\n",
    "    'pageSize': 100,\n",
    "    'apiKey': API_KEY,\n",
    "    'sources' : 'abc-news',\n",
    "    'domains' : 'nytimes.com'\n",
    "}"
   ]
  },
  {
   "cell_type": "code",
   "execution_count": 36,
   "metadata": {},
   "outputs": [
    {
     "name": "stdout",
     "output_type": "stream",
     "text": [
      "Writing to data/ny_abc_articles/ny_abc.json ...\n"
     ]
    }
   ],
   "source": [
    "filename = join(DATA_DIR, 'ny_abc.json')\n",
    "    \n",
    "#if file not exists then only download it\n",
    "pages_data = []\n",
    "if not exists(filename):\n",
    "    response = requests.get(API_ENDPOINT, search_params)\n",
    "    data = response.json()\n",
    "    results = data['articles']\n",
    "    pages_data.extend(results)\n",
    "        \n",
    "    #write all data to json file\n",
    "    with open(filename, 'w') as f:\n",
    "        print(\"Writing to {} ...\".format(filename))\n",
    "        f.write(json.dumps(pages_data, indent=2))    "
   ]
  },
  {
   "cell_type": "code",
   "execution_count": 7,
   "metadata": {},
   "outputs": [
    {
     "name": "stdout",
     "output_type": "stream",
     "text": [
      "Writing to data/newsapi_credible_src.json ...\n"
     ]
    }
   ],
   "source": [
    "#extract all valid sources from newsapi\n",
    "#Save the json once and then read it later to do filtering of columns and \n",
    "API_ENDPOINT = 'https://newsapi.org/v2/sources'\n",
    "DATA_DIR = 'data'\n",
    "search_params = {\n",
    "    'apiKey': API_KEY\n",
    "}\n",
    "with open('newsapi-org.txt', 'r') as f:\n",
    "    API_KEY = f.read().strip()\n",
    "    \n",
    "src_file = join(DATA_DIR, 'newsapi_credible_src.json')\n",
    "src_data = []\n",
    "if not exists(src_file):\n",
    "    response = requests.get(API_ENDPOINT, search_params)\n",
    "    data = response.json()\n",
    "    srclist = data['sources']\n",
    "    src_data.extend(srclist)\n",
    "    \n",
    "#write all data to json file\n",
    "with open(src_file, 'w') as f:\n",
    "    print(\"Writing to {} ...\".format(src_file))\n",
    "    f.write(json.dumps(src_data, indent=2))    \n"
   ]
  },
  {
   "cell_type": "code",
   "execution_count": 11,
   "metadata": {},
   "outputs": [],
   "source": [
    "df_src = pd.read_json(src_file)"
   ]
  },
  {
   "cell_type": "code",
   "execution_count": 13,
   "metadata": {},
   "outputs": [
    {
     "data": {
      "text/plain": [
       "(138, 7)"
      ]
     },
     "execution_count": 13,
     "metadata": {},
     "output_type": "execute_result"
    }
   ],
   "source": [
    "df_src.shape"
   ]
  },
  {
   "cell_type": "code",
   "execution_count": 12,
   "metadata": {},
   "outputs": [
    {
     "data": {
      "text/html": [
       "<div>\n",
       "<style scoped>\n",
       "    .dataframe tbody tr th:only-of-type {\n",
       "        vertical-align: middle;\n",
       "    }\n",
       "\n",
       "    .dataframe tbody tr th {\n",
       "        vertical-align: top;\n",
       "    }\n",
       "\n",
       "    .dataframe thead th {\n",
       "        text-align: right;\n",
       "    }\n",
       "</style>\n",
       "<table border=\"1\" class=\"dataframe\">\n",
       "  <thead>\n",
       "    <tr style=\"text-align: right;\">\n",
       "      <th></th>\n",
       "      <th>category</th>\n",
       "      <th>country</th>\n",
       "      <th>description</th>\n",
       "      <th>id</th>\n",
       "      <th>language</th>\n",
       "      <th>name</th>\n",
       "      <th>url</th>\n",
       "    </tr>\n",
       "  </thead>\n",
       "  <tbody>\n",
       "    <tr>\n",
       "      <th>0</th>\n",
       "      <td>general</td>\n",
       "      <td>us</td>\n",
       "      <td>Your trusted source for breaking news, analysi...</td>\n",
       "      <td>abc-news</td>\n",
       "      <td>en</td>\n",
       "      <td>ABC News</td>\n",
       "      <td>http://abcnews.go.com</td>\n",
       "    </tr>\n",
       "    <tr>\n",
       "      <th>1</th>\n",
       "      <td>general</td>\n",
       "      <td>au</td>\n",
       "      <td>Australia's most trusted source of local, nati...</td>\n",
       "      <td>abc-news-au</td>\n",
       "      <td>en</td>\n",
       "      <td>ABC News (AU)</td>\n",
       "      <td>http://www.abc.net.au/news</td>\n",
       "    </tr>\n",
       "    <tr>\n",
       "      <th>2</th>\n",
       "      <td>general</td>\n",
       "      <td>no</td>\n",
       "      <td>Norges ledende nettavis med alltid oppdaterte ...</td>\n",
       "      <td>aftenposten</td>\n",
       "      <td>no</td>\n",
       "      <td>Aftenposten</td>\n",
       "      <td>https://www.aftenposten.no</td>\n",
       "    </tr>\n",
       "    <tr>\n",
       "      <th>3</th>\n",
       "      <td>general</td>\n",
       "      <td>us</td>\n",
       "      <td>News, analysis from the Middle East and worldw...</td>\n",
       "      <td>al-jazeera-english</td>\n",
       "      <td>en</td>\n",
       "      <td>Al Jazeera English</td>\n",
       "      <td>http://www.aljazeera.com</td>\n",
       "    </tr>\n",
       "    <tr>\n",
       "      <th>4</th>\n",
       "      <td>general</td>\n",
       "      <td>it</td>\n",
       "      <td>Agenzia ANSA: ultime notizie, foto, video e ap...</td>\n",
       "      <td>ansa</td>\n",
       "      <td>it</td>\n",
       "      <td>ANSA.it</td>\n",
       "      <td>http://www.ansa.it</td>\n",
       "    </tr>\n",
       "  </tbody>\n",
       "</table>\n",
       "</div>"
      ],
      "text/plain": [
       "  category country                                        description  \\\n",
       "0  general      us  Your trusted source for breaking news, analysi...   \n",
       "1  general      au  Australia's most trusted source of local, nati...   \n",
       "2  general      no  Norges ledende nettavis med alltid oppdaterte ...   \n",
       "3  general      us  News, analysis from the Middle East and worldw...   \n",
       "4  general      it  Agenzia ANSA: ultime notizie, foto, video e ap...   \n",
       "\n",
       "                   id language                name                         url  \n",
       "0            abc-news       en            ABC News       http://abcnews.go.com  \n",
       "1         abc-news-au       en       ABC News (AU)  http://www.abc.net.au/news  \n",
       "2         aftenposten       no         Aftenposten  https://www.aftenposten.no  \n",
       "3  al-jazeera-english       en  Al Jazeera English    http://www.aljazeera.com  \n",
       "4                ansa       it             ANSA.it          http://www.ansa.it  "
      ]
     },
     "execution_count": 12,
     "metadata": {},
     "output_type": "execute_result"
    }
   ],
   "source": [
    "df_src.head()"
   ]
  },
  {
   "cell_type": "code",
   "execution_count": 14,
   "metadata": {},
   "outputs": [],
   "source": [
    "#mask to select only english language sources afor now \n",
    "mask = df_src['language'] == 'en'\n",
    "df_src = df_src[mask]"
   ]
  },
  {
   "cell_type": "code",
   "execution_count": 15,
   "metadata": {},
   "outputs": [
    {
     "data": {
      "text/plain": [
       "(91, 7)"
      ]
     },
     "execution_count": 15,
     "metadata": {},
     "output_type": "execute_result"
    }
   ],
   "source": [
    "df_src.shape"
   ]
  },
  {
   "cell_type": "code",
   "execution_count": 16,
   "metadata": {},
   "outputs": [],
   "source": [
    "df_src = df_src.drop(['category', 'country', 'description', 'language'], axis=1)"
   ]
  },
  {
   "cell_type": "code",
   "execution_count": 17,
   "metadata": {},
   "outputs": [
    {
     "data": {
      "text/html": [
       "<div>\n",
       "<style scoped>\n",
       "    .dataframe tbody tr th:only-of-type {\n",
       "        vertical-align: middle;\n",
       "    }\n",
       "\n",
       "    .dataframe tbody tr th {\n",
       "        vertical-align: top;\n",
       "    }\n",
       "\n",
       "    .dataframe thead th {\n",
       "        text-align: right;\n",
       "    }\n",
       "</style>\n",
       "<table border=\"1\" class=\"dataframe\">\n",
       "  <thead>\n",
       "    <tr style=\"text-align: right;\">\n",
       "      <th></th>\n",
       "      <th>id</th>\n",
       "      <th>name</th>\n",
       "      <th>url</th>\n",
       "    </tr>\n",
       "  </thead>\n",
       "  <tbody>\n",
       "    <tr>\n",
       "      <th>0</th>\n",
       "      <td>abc-news</td>\n",
       "      <td>ABC News</td>\n",
       "      <td>http://abcnews.go.com</td>\n",
       "    </tr>\n",
       "    <tr>\n",
       "      <th>1</th>\n",
       "      <td>abc-news-au</td>\n",
       "      <td>ABC News (AU)</td>\n",
       "      <td>http://www.abc.net.au/news</td>\n",
       "    </tr>\n",
       "    <tr>\n",
       "      <th>3</th>\n",
       "      <td>al-jazeera-english</td>\n",
       "      <td>Al Jazeera English</td>\n",
       "      <td>http://www.aljazeera.com</td>\n",
       "    </tr>\n",
       "    <tr>\n",
       "      <th>6</th>\n",
       "      <td>ars-technica</td>\n",
       "      <td>Ars Technica</td>\n",
       "      <td>http://arstechnica.com</td>\n",
       "    </tr>\n",
       "    <tr>\n",
       "      <th>8</th>\n",
       "      <td>associated-press</td>\n",
       "      <td>Associated Press</td>\n",
       "      <td>https://apnews.com/</td>\n",
       "    </tr>\n",
       "  </tbody>\n",
       "</table>\n",
       "</div>"
      ],
      "text/plain": [
       "                   id                name                         url\n",
       "0            abc-news            ABC News       http://abcnews.go.com\n",
       "1         abc-news-au       ABC News (AU)  http://www.abc.net.au/news\n",
       "3  al-jazeera-english  Al Jazeera English    http://www.aljazeera.com\n",
       "6        ars-technica        Ars Technica      http://arstechnica.com\n",
       "8    associated-press    Associated Press         https://apnews.com/"
      ]
     },
     "execution_count": 17,
     "metadata": {},
     "output_type": "execute_result"
    }
   ],
   "source": [
    "df_src.head()"
   ]
  },
  {
   "cell_type": "code",
   "execution_count": 18,
   "metadata": {},
   "outputs": [],
   "source": [
    "df_src.to_csv('data/credible.csv', sep=',')"
   ]
  },
  {
   "cell_type": "code",
   "execution_count": null,
   "metadata": {},
   "outputs": [],
   "source": [
    "\n",
    "# # An example of sample response \n",
    "# https://newsapi.org/v2/sources?apiKey=3d2142f3c3b44c2596d5912c319e4f0f\n",
    "# {\n",
    "# \"status\": \"ok\",\n",
    "# -\"sources\": [\n",
    "# -{\n",
    "# \"id\": \"abc-news\",\n",
    "# \"name\": \"ABC News\",\n",
    "# \"description\": \"Your trusted source for breaking news, analysis, exclusive interviews, headlines, and videos at ABCNews.com.\",\n",
    "# \"url\": \"http://abcnews.go.com\",\n",
    "# \"category\": \"general\",\n",
    "# \"language\": \"en\",\n",
    "# \"country\": \"us\"\n",
    "# },\n",
    "# -{\n",
    "# \"id\": \"abc-news-au\",\n",
    "# \"name\": \"ABC News (AU)\",\n",
    "# \"description\": \"Australia's most trusted source of local, national and world news. Comprehensive, independent, in-depth analysis, the latest business, sport, weather and more.\",\n",
    "# \"url\": \"http://www.abc.net.au/news\",\n",
    "# \"category\": \"general\",\n",
    "# \"language\": \"en\",\n",
    "# \"country\": \"au\"\n",
    "# }\n",
    "# ]\n",
    "# }"
   ]
  },
  {
   "cell_type": "code",
   "execution_count": null,
   "metadata": {},
   "outputs": [],
   "source": []
  },
  {
   "cell_type": "code",
   "execution_count": null,
   "metadata": {},
   "outputs": [],
   "source": []
  }
 ],
 "metadata": {
  "kernelspec": {
   "display_name": "Python 3",
   "language": "python",
   "name": "python3"
  },
  "language_info": {
   "codemirror_mode": {
    "name": "ipython",
    "version": 3
   },
   "file_extension": ".py",
   "mimetype": "text/x-python",
   "name": "python",
   "nbconvert_exporter": "python",
   "pygments_lexer": "ipython3",
   "version": "3.6.4"
  }
 },
 "nbformat": 4,
 "nbformat_minor": 2
}
