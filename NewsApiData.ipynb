{
 "cells": [
  {
   "cell_type": "code",
   "execution_count": 6,
   "metadata": {},
   "outputs": [],
   "source": [
    "import requests\n",
    "import json\n",
    "from os import makedirs\n",
    "from os.path import join, exists\n",
    "from datetime import date, timedelta"
   ]
  },
  {
   "cell_type": "code",
   "execution_count": 7,
   "metadata": {},
   "outputs": [],
   "source": [
    "API_ENDPOINT = 'https://newsapi.org/v2/everything'\n",
    "with open('newsapi-org.txt', 'r') as f:\n",
    "    API_KEY = f.read().strip()\n",
    "    \n",
    "DATA_DIR = join('data', 'ny_abc_articles')\n",
    "makedirs(DATA_DIR, exist_ok=True)"
   ]
  },
  {
   "cell_type": "code",
   "execution_count": 8,
   "metadata": {},
   "outputs": [
    {
     "data": {
      "text/plain": [
       "'3d2142f3c3b44c2596d5912c319e4f0f'"
      ]
     },
     "execution_count": 8,
     "metadata": {},
     "output_type": "execute_result"
    }
   ],
   "source": [
    "API_KEY"
   ]
  },
  {
   "cell_type": "code",
   "execution_count": 35,
   "metadata": {},
   "outputs": [],
   "source": [
    "search_params = {\n",
    "    'from': '2017-09-01',\n",
    "    'to': '2018-03-30',\n",
    "    'sortBy': 'popularity',\n",
    "    'pageSize': 100,\n",
    "    'apiKey': API_KEY,\n",
    "    'sources' : 'abc-news',\n",
    "    'domains' : 'nytimes.com'\n",
    "}"
   ]
  },
  {
   "cell_type": "code",
   "execution_count": 36,
   "metadata": {},
   "outputs": [
    {
     "name": "stdout",
     "output_type": "stream",
     "text": [
      "Writing to data/ny_abc_articles/ny_abc.json ...\n"
     ]
    }
   ],
   "source": [
    "filename = join(DATA_DIR, 'ny_abc.json')\n",
    "    \n",
    "#if file not exists then only download it\n",
    "pages_data = []\n",
    "if not exists(filename):\n",
    "    response = requests.get(API_ENDPOINT, search_params)\n",
    "    data = response.json()\n",
    "    results = data['articles']\n",
    "    pages_data.extend(results)\n",
    "        \n",
    "    #write all data to json file\n",
    "    with open(filename, 'w') as f:\n",
    "        print(\"Writing to {} ...\".format(filename))\n",
    "        f.write(json.dumps(pages_data, indent=2))    "
   ]
  },
  {
   "cell_type": "code",
   "execution_count": null,
   "metadata": {},
   "outputs": [],
   "source": []
  }
 ],
 "metadata": {
  "kernelspec": {
   "display_name": "Python 3",
   "language": "python",
   "name": "python3"
  },
  "language_info": {
   "codemirror_mode": {
    "name": "ipython",
    "version": 3
   },
   "file_extension": ".py",
   "mimetype": "text/x-python",
   "name": "python",
   "nbconvert_exporter": "python",
   "pygments_lexer": "ipython3",
   "version": "3.6.4"
  }
 },
 "nbformat": 4,
 "nbformat_minor": 2
}
