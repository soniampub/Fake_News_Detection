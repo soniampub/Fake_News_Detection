{
 "cells": [
  {
   "cell_type": "code",
   "execution_count": 51,
   "metadata": {},
   "outputs": [],
   "source": [
    "import pandas as pd\n",
    "import numpy as np\n",
    "from keras.datasets import imdb\n",
    "from sklearn.model_selection import train_test_split\n",
    "from keras.models import Sequential\n",
    "from keras.layers import Dense\n",
    "from keras.layers import LSTM\n",
    "from keras.layers.embeddings import Embedding\n",
    "from keras.preprocessing import sequence\n",
    "from collections import Counter\n",
    "from nltk.corpus import stopwords\n",
    "import os\n",
    "import re\n",
    "import string\n",
    "import matplotlib.pyplot as plt\n",
    "import numpy as np\n",
    "from keras.callbacks import Callback\n",
    "from sklearn.metrics import confusion_matrix, f1_score, precision_score, recall_score\n",
    "from keras import backend as K"
   ]
  },
  {
   "cell_type": "code",
   "execution_count": 53,
   "metadata": {},
   "outputs": [],
   "source": [
    "top_words = 5000\n",
    "epoch_num = 5\n",
    "batch_size = 64\n"
   ]
  },
  {
   "cell_type": "code",
   "execution_count": 54,
   "metadata": {},
   "outputs": [],
   "source": [
    "#df_train = pd.read_csv('data/train_kaggle.csv', sep=',', encoding='utf-8')\n",
    "df_train = pd.read_pickle('data/data_train.pkl')\n",
    "df_test = pd.read_pickle('data/data_test.pkl')"
   ]
  },
  {
   "cell_type": "code",
   "execution_count": 55,
   "metadata": {},
   "outputs": [
    {
     "name": "stdout",
     "output_type": "stream",
     "text": [
      "<class 'pandas.core.frame.DataFrame'>\n",
      "Int64Index: 6796 entries, 5014 to 9265\n",
      "Data columns (total 7 columns):\n",
      "content       6796 non-null object\n",
      "id            6796 non-null object\n",
      "label         6796 non-null int64\n",
      "media-type    6796 non-null object\n",
      "published     6796 non-null object\n",
      "source        6796 non-null object\n",
      "title         6796 non-null object\n",
      "dtypes: int64(1), object(6)\n",
      "memory usage: 424.8+ KB\n"
     ]
    }
   ],
   "source": [
    "df_train.info()"
   ]
  },
  {
   "cell_type": "code",
   "execution_count": 56,
   "metadata": {},
   "outputs": [],
   "source": [
    "def textClean(text):\n",
    "    \"\"\"\n",
    "    Get rid of the non-letter and non-number characters\n",
    "    \"\"\"\n",
    "    text = re.sub(r\"[^A-Za-z0-9^,!.\\/'+-=]\", \" \", text)\n",
    "    text = text.lower().split()\n",
    "    stops = set(stopwords.words(\"english\"))\n",
    "    text = [w for w in text if not w in stops]\n",
    "    text = \" \".join(text)\n",
    "    return (text)\n",
    "\n",
    "def cleanup(text):\n",
    "    text = textClean(text)\n",
    "    text = text.translate(str.maketrans(\"\", \"\", string.punctuation))\n",
    "    return text"
   ]
  },
  {
   "cell_type": "code",
   "execution_count": 57,
   "metadata": {},
   "outputs": [
    {
     "data": {
      "text/html": [
       "<div>\n",
       "<style scoped>\n",
       "    .dataframe tbody tr th:only-of-type {\n",
       "        vertical-align: middle;\n",
       "    }\n",
       "\n",
       "    .dataframe tbody tr th {\n",
       "        vertical-align: top;\n",
       "    }\n",
       "\n",
       "    .dataframe thead th {\n",
       "        text-align: right;\n",
       "    }\n",
       "</style>\n",
       "<table border=\"1\" class=\"dataframe\">\n",
       "  <thead>\n",
       "    <tr style=\"text-align: right;\">\n",
       "      <th></th>\n",
       "      <th>content</th>\n",
       "      <th>id</th>\n",
       "      <th>label</th>\n",
       "      <th>media-type</th>\n",
       "      <th>published</th>\n",
       "      <th>source</th>\n",
       "      <th>title</th>\n",
       "    </tr>\n",
       "  </thead>\n",
       "  <tbody>\n",
       "    <tr>\n",
       "      <th>5014</th>\n",
       "      <td>In 1939 the German military commanders had pla...</td>\n",
       "      <td>a53a9da1-2643-4b88-aa05-979f98914908</td>\n",
       "      <td>1</td>\n",
       "      <td>News</td>\n",
       "      <td>2015-09-09T15:31:01Z</td>\n",
       "      <td>Global Research</td>\n",
       "      <td>Why Did Nazi Germany Fail to Create a Ukrainia...</td>\n",
       "    </tr>\n",
       "    <tr>\n",
       "      <th>347</th>\n",
       "      <td>HMS Industrial Networks Provides Robust Multi-...</td>\n",
       "      <td>eea36487-9c64-4b79-808b-2576d60d06f7</td>\n",
       "      <td>0</td>\n",
       "      <td>News</td>\n",
       "      <td>2015-09-16T11:14:10Z</td>\n",
       "      <td>Reuters</td>\n",
       "      <td>Microsemi Collaborates with HMS Industrial Net...</td>\n",
       "    </tr>\n",
       "    <tr>\n",
       "      <th>8990</th>\n",
       "      <td>* Gold in tight range until Fed meet next week...</td>\n",
       "      <td>5c30364c-9689-4135-a6c7-9cda2b27aee1</td>\n",
       "      <td>0</td>\n",
       "      <td>News</td>\n",
       "      <td>2015-09-09T14:20:43Z</td>\n",
       "      <td>Reuters</td>\n",
       "      <td>PRECIOUS-Gold falls 1 pct as stocks rally, dol...</td>\n",
       "    </tr>\n",
       "    <tr>\n",
       "      <th>4304</th>\n",
       "      <td>PR Newswire \\n \\nGREENWICH, Conn., Sept. 9, 20...</td>\n",
       "      <td>3ae57dbc-86ac-488a-be5e-baac0aab888d</td>\n",
       "      <td>0</td>\n",
       "      <td>News</td>\n",
       "      <td>2015-09-09T12:25:44Z</td>\n",
       "      <td>Reuters</td>\n",
       "      <td>Littlejohn &amp; Co. Completes Sale of Henniges Au...</td>\n",
       "    </tr>\n",
       "    <tr>\n",
       "      <th>9119</th>\n",
       "      <td>VDX and Gridstore Deliver Hyper-Converged Infr...</td>\n",
       "      <td>94a8027c-2dc2-47bd-915b-ea4ab8241717</td>\n",
       "      <td>0</td>\n",
       "      <td>News</td>\n",
       "      <td>2015-09-02T12:19:49Z</td>\n",
       "      <td>Reuters</td>\n",
       "      <td>Leading Consultancy VDX Inc. Joins Gridstore A...</td>\n",
       "    </tr>\n",
       "  </tbody>\n",
       "</table>\n",
       "</div>"
      ],
      "text/plain": [
       "                                                content  \\\n",
       "5014  In 1939 the German military commanders had pla...   \n",
       "347   HMS Industrial Networks Provides Robust Multi-...   \n",
       "8990  * Gold in tight range until Fed meet next week...   \n",
       "4304  PR Newswire \\n \\nGREENWICH, Conn., Sept. 9, 20...   \n",
       "9119  VDX and Gridstore Deliver Hyper-Converged Infr...   \n",
       "\n",
       "                                        id  label media-type  \\\n",
       "5014  a53a9da1-2643-4b88-aa05-979f98914908      1       News   \n",
       "347   eea36487-9c64-4b79-808b-2576d60d06f7      0       News   \n",
       "8990  5c30364c-9689-4135-a6c7-9cda2b27aee1      0       News   \n",
       "4304  3ae57dbc-86ac-488a-be5e-baac0aab888d      0       News   \n",
       "9119  94a8027c-2dc2-47bd-915b-ea4ab8241717      0       News   \n",
       "\n",
       "                 published           source  \\\n",
       "5014  2015-09-09T15:31:01Z  Global Research   \n",
       "347   2015-09-16T11:14:10Z          Reuters   \n",
       "8990  2015-09-09T14:20:43Z          Reuters   \n",
       "4304  2015-09-09T12:25:44Z          Reuters   \n",
       "9119  2015-09-02T12:19:49Z          Reuters   \n",
       "\n",
       "                                                  title  \n",
       "5014  Why Did Nazi Germany Fail to Create a Ukrainia...  \n",
       "347   Microsemi Collaborates with HMS Industrial Net...  \n",
       "8990  PRECIOUS-Gold falls 1 pct as stocks rally, dol...  \n",
       "4304  Littlejohn & Co. Completes Sale of Henniges Au...  \n",
       "9119  Leading Consultancy VDX Inc. Joins Gridstore A...  "
      ]
     },
     "execution_count": 57,
     "metadata": {},
     "output_type": "execute_result"
    }
   ],
   "source": [
    "df_train.head(5)"
   ]
  },
  {
   "cell_type": "code",
   "execution_count": 58,
   "metadata": {},
   "outputs": [],
   "source": [
    "missing_rows = []\n",
    "df_train = df_train.reset_index()\n",
    "for i in range(len(df_train)):\n",
    "    if df_train.loc[i, 'content'] != df_train.loc[i, 'content']:\n",
    "        missing_rows.append(i)"
   ]
  },
  {
   "cell_type": "code",
   "execution_count": 59,
   "metadata": {},
   "outputs": [],
   "source": [
    "df_train = df_train.drop(missing_rows).reset_index().drop(['index','id'],axis=1)\n"
   ]
  },
  {
   "cell_type": "code",
   "execution_count": 60,
   "metadata": {},
   "outputs": [
    {
     "data": {
      "text/html": [
       "<div>\n",
       "<style scoped>\n",
       "    .dataframe tbody tr th:only-of-type {\n",
       "        vertical-align: middle;\n",
       "    }\n",
       "\n",
       "    .dataframe tbody tr th {\n",
       "        vertical-align: top;\n",
       "    }\n",
       "\n",
       "    .dataframe thead th {\n",
       "        text-align: right;\n",
       "    }\n",
       "</style>\n",
       "<table border=\"1\" class=\"dataframe\">\n",
       "  <thead>\n",
       "    <tr style=\"text-align: right;\">\n",
       "      <th></th>\n",
       "      <th>level_0</th>\n",
       "      <th>content</th>\n",
       "      <th>label</th>\n",
       "      <th>media-type</th>\n",
       "      <th>published</th>\n",
       "      <th>source</th>\n",
       "      <th>title</th>\n",
       "    </tr>\n",
       "  </thead>\n",
       "  <tbody>\n",
       "    <tr>\n",
       "      <th>0</th>\n",
       "      <td>0</td>\n",
       "      <td>In 1939 the German military commanders had pla...</td>\n",
       "      <td>1</td>\n",
       "      <td>News</td>\n",
       "      <td>2015-09-09T15:31:01Z</td>\n",
       "      <td>Global Research</td>\n",
       "      <td>Why Did Nazi Germany Fail to Create a Ukrainia...</td>\n",
       "    </tr>\n",
       "    <tr>\n",
       "      <th>1</th>\n",
       "      <td>1</td>\n",
       "      <td>HMS Industrial Networks Provides Robust Multi-...</td>\n",
       "      <td>0</td>\n",
       "      <td>News</td>\n",
       "      <td>2015-09-16T11:14:10Z</td>\n",
       "      <td>Reuters</td>\n",
       "      <td>Microsemi Collaborates with HMS Industrial Net...</td>\n",
       "    </tr>\n",
       "    <tr>\n",
       "      <th>2</th>\n",
       "      <td>2</td>\n",
       "      <td>* Gold in tight range until Fed meet next week...</td>\n",
       "      <td>0</td>\n",
       "      <td>News</td>\n",
       "      <td>2015-09-09T14:20:43Z</td>\n",
       "      <td>Reuters</td>\n",
       "      <td>PRECIOUS-Gold falls 1 pct as stocks rally, dol...</td>\n",
       "    </tr>\n",
       "    <tr>\n",
       "      <th>3</th>\n",
       "      <td>3</td>\n",
       "      <td>PR Newswire \\n \\nGREENWICH, Conn., Sept. 9, 20...</td>\n",
       "      <td>0</td>\n",
       "      <td>News</td>\n",
       "      <td>2015-09-09T12:25:44Z</td>\n",
       "      <td>Reuters</td>\n",
       "      <td>Littlejohn &amp; Co. Completes Sale of Henniges Au...</td>\n",
       "    </tr>\n",
       "    <tr>\n",
       "      <th>4</th>\n",
       "      <td>4</td>\n",
       "      <td>VDX and Gridstore Deliver Hyper-Converged Infr...</td>\n",
       "      <td>0</td>\n",
       "      <td>News</td>\n",
       "      <td>2015-09-02T12:19:49Z</td>\n",
       "      <td>Reuters</td>\n",
       "      <td>Leading Consultancy VDX Inc. Joins Gridstore A...</td>\n",
       "    </tr>\n",
       "    <tr>\n",
       "      <th>5</th>\n",
       "      <td>5</td>\n",
       "      <td>Form 8.3 - SABMILLER PLC \\n \\n \\n \\nFORM 8.3 \\...</td>\n",
       "      <td>0</td>\n",
       "      <td>News</td>\n",
       "      <td>2015-09-21T13:43:08Z</td>\n",
       "      <td>Reuters</td>\n",
       "      <td>REG-BARCLAYS PLC Form 8.3 - SABMILLER PLC</td>\n",
       "    </tr>\n",
       "    <tr>\n",
       "      <th>6</th>\n",
       "      <td>6</td>\n",
       "      <td>CEA Proves Continued Commitment to Employees, ...</td>\n",
       "      <td>0</td>\n",
       "      <td>News</td>\n",
       "      <td>2015-09-24T17:03:24Z</td>\n",
       "      <td>Reuters</td>\n",
       "      <td>CEA Proves Continued Commitment to Employees, ...</td>\n",
       "    </tr>\n",
       "  </tbody>\n",
       "</table>\n",
       "</div>"
      ],
      "text/plain": [
       "   level_0                                            content  label  \\\n",
       "0        0  In 1939 the German military commanders had pla...      1   \n",
       "1        1  HMS Industrial Networks Provides Robust Multi-...      0   \n",
       "2        2  * Gold in tight range until Fed meet next week...      0   \n",
       "3        3  PR Newswire \\n \\nGREENWICH, Conn., Sept. 9, 20...      0   \n",
       "4        4  VDX and Gridstore Deliver Hyper-Converged Infr...      0   \n",
       "5        5  Form 8.3 - SABMILLER PLC \\n \\n \\n \\nFORM 8.3 \\...      0   \n",
       "6        6  CEA Proves Continued Commitment to Employees, ...      0   \n",
       "\n",
       "  media-type             published           source  \\\n",
       "0       News  2015-09-09T15:31:01Z  Global Research   \n",
       "1       News  2015-09-16T11:14:10Z          Reuters   \n",
       "2       News  2015-09-09T14:20:43Z          Reuters   \n",
       "3       News  2015-09-09T12:25:44Z          Reuters   \n",
       "4       News  2015-09-02T12:19:49Z          Reuters   \n",
       "5       News  2015-09-21T13:43:08Z          Reuters   \n",
       "6       News  2015-09-24T17:03:24Z          Reuters   \n",
       "\n",
       "                                               title  \n",
       "0  Why Did Nazi Germany Fail to Create a Ukrainia...  \n",
       "1  Microsemi Collaborates with HMS Industrial Net...  \n",
       "2  PRECIOUS-Gold falls 1 pct as stocks rally, dol...  \n",
       "3  Littlejohn & Co. Completes Sale of Henniges Au...  \n",
       "4  Leading Consultancy VDX Inc. Joins Gridstore A...  \n",
       "5          REG-BARCLAYS PLC Form 8.3 - SABMILLER PLC  \n",
       "6  CEA Proves Continued Commitment to Employees, ...  "
      ]
     },
     "execution_count": 60,
     "metadata": {},
     "output_type": "execute_result"
    }
   ],
   "source": [
    "df_train.head(7)"
   ]
  },
  {
   "cell_type": "code",
   "execution_count": 61,
   "metadata": {},
   "outputs": [],
   "source": [
    "for i in range(len(df_train['content'])):\n",
    "        df_train.loc[i, 'content'] = cleanup(df_train.loc[i,'content'])"
   ]
  },
  {
   "cell_type": "code",
   "execution_count": 62,
   "metadata": {},
   "outputs": [],
   "source": [
    "#change above X if we r using tokenize and other nlp process\n",
    "#Dropping the Nan values and info\n",
    "#df_train.dropna(inplace=True)\n",
    "X = df_train['content']\n",
    "y = df_train['label']\n",
    "\n",
    "# do the similar think on headline (author ?? or source)\n",
    "# name these to test , validation\n",
    "X_train,  X_test,  y_train, y_test = train_test_split(X, y, test_size = 0.2, random_state=12345)\n"
   ]
  },
  {
   "cell_type": "code",
   "execution_count": 63,
   "metadata": {},
   "outputs": [],
   "source": [
    "cnt = Counter()\n",
    "X_train_modified = []\n",
    "for x in X_train:\n",
    "    X_train_modified.append(x.split())\n",
    "    for word in X_train_modified[-1]:\n",
    "        cnt[word] += 1  \n",
    "\n",
    "# Storing most common words\n",
    "most_common = cnt.most_common(top_words + 1)\n",
    "word_bank = {}\n",
    "id_num = 1\n",
    "for word, freq in most_common:\n",
    "    word_bank[word] = id_num\n",
    "    id_num += 1\n"
   ]
  },
  {
   "cell_type": "code",
   "execution_count": 64,
   "metadata": {},
   "outputs": [],
   "source": [
    "# Encode the sentences\n",
    "for news in X_train_modified:\n",
    "    i = 0\n",
    "    while i < len(news):\n",
    "        if news[i] in word_bank:\n",
    "            news[i] = word_bank[news[i]]\n",
    "            i += 1\n",
    "        else:\n",
    "            del news[i]\n"
   ]
  },
  {
   "cell_type": "code",
   "execution_count": 65,
   "metadata": {},
   "outputs": [],
   "source": [
    "y_train = list(y_train)\n",
    "y_test = list(y_test)\n",
    "\n",
    "# Delete the short news\n",
    "i = 0\n",
    "while i < len(X_train_modified):\n",
    "    if len(X_train_modified[i]) > 10:\n",
    "        i += 1\n",
    "    else:\n",
    "        del X_train_modified[i]\n",
    "        del y_train[i]\n"
   ]
  },
  {
   "cell_type": "code",
   "execution_count": 66,
   "metadata": {},
   "outputs": [],
   "source": [
    "# Generating test data\n",
    "x_test = []\n",
    "for x in X_test:\n",
    "    x_test.append(x.split())\n",
    "\n",
    "# Encode the sentences\n",
    "for news in x_test:\n",
    "    i = 0\n",
    "    while i < len(news):\n",
    "        if news[i] in word_bank:\n",
    "            news[i] = word_bank[news[i]]\n",
    "            i += 1\n",
    "        else:\n",
    "            del news[i]\n"
   ]
  },
  {
   "cell_type": "code",
   "execution_count": 76,
   "metadata": {},
   "outputs": [],
   "source": [
    "# Truncate and pad input sequences\n",
    "max_article_length = 500\n",
    "X_train = sequence.pad_sequences(X_train_modified, maxlen=max_article_length)\n",
    "X_test = sequence.pad_sequences(x_test, maxlen=max_article_length)\n",
    "\n",
    "# Convert to numpy arrays\n",
    "y_train = np.array(y_train)\n",
    "y_test = np.array(y_test)\n"
   ]
  },
  {
   "cell_type": "code",
   "execution_count": 77,
   "metadata": {},
   "outputs": [],
   "source": [
    "embedding_vecor_length = 32\n",
    "model = Sequential()\n",
    "model.add(Embedding(top_words+2, embedding_vecor_length, input_length=max_article_length))"
   ]
  },
  {
   "cell_type": "code",
   "execution_count": 78,
   "metadata": {},
   "outputs": [
    {
     "name": "stdout",
     "output_type": "stream",
     "text": [
      "_________________________________________________________________\n",
      "Layer (type)                 Output Shape              Param #   \n",
      "=================================================================\n",
      "embedding_7 (Embedding)      (None, 500, 32)           160064    \n",
      "_________________________________________________________________\n",
      "lstm_8 (LSTM)                (None, 32)                8320      \n",
      "_________________________________________________________________\n",
      "dense_7 (Dense)              (None, 1)                 33        \n",
      "=================================================================\n",
      "Total params: 168,417\n",
      "Trainable params: 168,417\n",
      "Non-trainable params: 0\n",
      "_________________________________________________________________\n",
      "None\n",
      "Train on 5398 samples, validate on 1360 samples\n",
      "Epoch 1/5\n",
      "5398/5398 [==============================] - 37s 7ms/step - loss: 0.4854 - acc: 0.7545 - val_loss: 0.3894 - val_acc: 0.8390\n",
      "Epoch 2/5\n",
      "5398/5398 [==============================] - 38s 7ms/step - loss: 0.2040 - acc: 0.9287 - val_loss: 0.2317 - val_acc: 0.9066\n",
      "Epoch 3/5\n",
      "5398/5398 [==============================] - 37s 7ms/step - loss: 0.1064 - acc: 0.9646 - val_loss: 0.2458 - val_acc: 0.8993\n",
      "Epoch 4/5\n",
      "5398/5398 [==============================] - 37s 7ms/step - loss: 0.0573 - acc: 0.9846 - val_loss: 0.2816 - val_acc: 0.9044\n",
      "Epoch 5/5\n",
      "5398/5398 [==============================] - 37s 7ms/step - loss: 0.0251 - acc: 0.9943 - val_loss: 0.3327 - val_acc: 0.9015\n",
      "Accuracy= 90.15%\n"
     ]
    }
   ],
   "source": [
    "model.add(LSTM(32))\n",
    "model.add(Dense(1, activation='sigmoid'))\n",
    "model.compile(loss='binary_crossentropy', optimizer='adam', metrics=['accuracy'])\n",
    "print(model.summary())\n",
    "history = model.fit(X_train, y_train, validation_data=(X_test, y_test), epochs=epoch_num, batch_size=batch_size)\n",
    "\n",
    "# Final evaluation of the model\n",
    "scores = model.evaluate(X_test, y_test, verbose=0)\n",
    "print(\"Accuracy= %.2f%%\" % (scores[1]*100))\n",
    "\n",
    "# Draw the confusion matrix\n",
    "y_pred = model.predict_classes(X_test)"
   ]
  },
  {
   "cell_type": "code",
   "execution_count": 86,
   "metadata": {},
   "outputs": [
    {
     "data": {
      "text/plain": [
       "<matplotlib.figure.Figure at 0x1a262d59b0>"
      ]
     },
     "execution_count": 86,
     "metadata": {},
     "output_type": "execute_result"
    },
    {
     "data": {
      "image/png": "[encoded data removed]",
      "text/plain": [
       "<matplotlib.figure.Figure at 0x1a262a7128>"
      ]
     },
     "metadata": {},
     "output_type": "display_data"
    },
    {
     "data": {
      "text/plain": [
       "<matplotlib.figure.Figure at 0x1a262d59b0>"
      ]
     },
     "metadata": {},
     "output_type": "display_data"
    }
   ],
   "source": [
    "acc = history.history['acc']\n",
    "val_acc = history.history['val_acc']\n",
    "\n",
    "epochs = range(1, len(acc) + 1)\n",
    "\n",
    "plt.plot(epochs, acc, 'bo', label='Training acc')\n",
    "plt.plot(epochs, val_acc, 'b', label='Validation acc')\n",
    "plt.title('Training and Validation acc')\n",
    "plt.legend()\n",
    "plt.figure()"
   ]
  },
  {
   "cell_type": "code",
   "execution_count": 88,
   "metadata": {},
   "outputs": [
    {
     "data": {
      "image/png": "[encoded data removed]",
      "text/plain": [
       "<matplotlib.figure.Figure at 0x1a262b7438>"
      ]
     },
     "metadata": {},
     "output_type": "display_data"
    }
   ],
   "source": [
    "loss = history.history['loss']\n",
    "val_loss = history.history['val_loss']\n",
    "plt.plot(epochs, loss, 'bo', label='Training loss')\n",
    "plt.plot(epochs, val_loss, 'b', label='Validation loss')\n",
    "plt.title('Training and Validation loss')\n",
    "plt.legend()\n",
    "plt.show()"
   ]
  },
  {
   "cell_type": "markdown",
   "metadata": {},
   "source": [
    "# Using Custom F1 metric"
   ]
  },
  {
   "cell_type": "code",
   "execution_count": 69,
   "metadata": {},
   "outputs": [],
   "source": [
    "def f1(y_true, y_pred):\n",
    "    #Only computes a batch-wise average of precision.\n",
    "    def recall(y_true, y_pred):\n",
    "        true_positives = K.sum(K.round(K.clip(y_true * y_pred, 0, 1)))\n",
    "        possible_positives = K.sum(K.round(K.clip(y_true, 0, 1)))\n",
    "        recall = true_positives / (possible_positives + K.epsilon())\n",
    "        return recall\n",
    "\n",
    "    def precision(y_true, y_pred):\n",
    "        true_positives = K.sum(K.round(K.clip(y_true * y_pred, 0, 1)))\n",
    "        predicted_positives = K.sum(K.round(K.clip(y_pred, 0, 1)))\n",
    "        precision = true_positives / (predicted_positives + K.epsilon())\n",
    "        return precision\n",
    "    precision = precision(y_true, y_pred)\n",
    "    recall = recall(y_true, y_pred)\n",
    "    return 2*((precision*recall)/(precision+recall+K.epsilon()))\n",
    "\n"
   ]
  },
  {
   "cell_type": "code",
   "execution_count": 73,
   "metadata": {},
   "outputs": [],
   "source": [
    "embedding_vecor_length = 32\n",
    "model = Sequential()\n",
    "model.add(Embedding(top_words+2, embedding_vecor_length, input_length=max_article_length))"
   ]
  },
  {
   "cell_type": "code",
   "execution_count": 74,
   "metadata": {},
   "outputs": [
    {
     "name": "stdout",
     "output_type": "stream",
     "text": [
      "_________________________________________________________________\n",
      "Layer (type)                 Output Shape              Param #   \n",
      "=================================================================\n",
      "embedding_6 (Embedding)      (None, 500, 32)           160064    \n",
      "_________________________________________________________________\n",
      "lstm_7 (LSTM)                (None, 32)                8320      \n",
      "_________________________________________________________________\n",
      "dense_6 (Dense)              (None, 1)                 33        \n",
      "=================================================================\n",
      "Total params: 168,417\n",
      "Trainable params: 168,417\n",
      "Non-trainable params: 0\n",
      "_________________________________________________________________\n",
      "None\n",
      "Train on 5398 samples, validate on 1360 samples\n",
      "Epoch 1/5\n",
      "5398/5398 [==============================] - 38s 7ms/step - loss: 0.4846 - f1: 0.3757 - val_loss: 0.3090 - val_f1: 0.8011\n",
      "Epoch 2/5\n",
      "5398/5398 [==============================] - 41s 8ms/step - loss: 0.2009 - f1: 0.8930 - val_loss: 0.2326 - val_f1: 0.8515\n",
      "Epoch 3/5\n",
      "5398/5398 [==============================] - 41s 8ms/step - loss: 0.1026 - f1: 0.9476 - val_loss: 0.2456 - val_f1: 0.8480\n",
      "Epoch 4/5\n",
      "5398/5398 [==============================] - 39s 7ms/step - loss: 0.0505 - f1: 0.9799 - val_loss: 0.2736 - val_f1: 0.8314\n",
      "Epoch 5/5\n",
      "5398/5398 [==============================] - 41s 8ms/step - loss: 0.0220 - f1: 0.9926 - val_loss: 0.3431 - val_f1: 0.8399\n",
      "Accuracy= 83.61%\n"
     ]
    }
   ],
   "source": [
    "model.add(LSTM(32))\n",
    "model.add(Dense(1, activation='sigmoid'))\n",
    "model.compile(loss='binary_crossentropy', optimizer='adam', metrics=[f1])\n",
    "print(model.summary())\n",
    "model.fit(X_train, y_train, validation_data=(X_test, y_test), epochs=epoch_num, batch_size=batch_size)\n",
    "\n",
    "# Final evaluation of the model\n",
    "scores = model.evaluate(X_test, y_test, verbose=0)\n",
    "print(\"Accuracy= %.2f%%\" % (scores[1]*100))\n",
    "\n",
    "# Draw the confusion matrix\n",
    "y_pred = model.predict_classes(X_test)"
   ]
  }
 ],
 "metadata": {
  "kernelspec": {
   "display_name": "Python 3",
   "language": "python",
   "name": "python3"
  },
  "language_info": {
   "codemirror_mode": {
    "name": "ipython",
    "version": 3
   },
   "file_extension": ".py",
   "mimetype": "text/x-python",
   "name": "python",
   "nbconvert_exporter": "python",
   "pygments_lexer": "ipython3",
   "version": "3.6.4"
  }
 },
 "nbformat": 4,
 "nbformat_minor": 2
}
