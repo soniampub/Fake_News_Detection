{
 "cells": [
  {
   "cell_type": "code",
   "execution_count": 66,
   "metadata": {},
   "outputs": [],
   "source": [
    "import pandas as pd\n",
    "import numpy as np\n",
    "import json\n",
    "from os import makedirs, listdir\n",
    "from os.path import join, exists\n",
    "import re"
   ]
  },
  {
   "cell_type": "code",
   "execution_count": 70,
   "metadata": {},
   "outputs": [],
   "source": [
    "ARTICLES_DIR = 'data/guardian_articles'\n",
    "JOINED_ARTICLES_FILE = 'data/guardian_combined.csv'\n",
    "df = None\n",
    "for filename in listdir(ARTICLES_DIR):\n",
    "    if filename.endswith('.json'):\n",
    "        filepath = join(articles_dir, filename)\n",
    "        # join all json file in a dataframe\n",
    "        df_current = pd.read_json(filepath, encoding='utf-8')\n",
    "        df = pd.concat(objs=[df,df_current], axis=0, ignore_index=True)\n",
    "        \n",
    "    "
   ]
  },
  {
   "cell_type": "code",
   "execution_count": 71,
   "metadata": {},
   "outputs": [
    {
     "data": {
      "text/html": [
       "<div>\n",
       "<style scoped>\n",
       "    .dataframe tbody tr th:only-of-type {\n",
       "        vertical-align: middle;\n",
       "    }\n",
       "\n",
       "    .dataframe tbody tr th {\n",
       "        vertical-align: top;\n",
       "    }\n",
       "\n",
       "    .dataframe thead th {\n",
       "        text-align: right;\n",
       "    }\n",
       "</style>\n",
       "<table border=\"1\" class=\"dataframe\">\n",
       "  <thead>\n",
       "    <tr style=\"text-align: right;\">\n",
       "      <th></th>\n",
       "      <th>apiUrl</th>\n",
       "      <th>fields</th>\n",
       "      <th>id</th>\n",
       "      <th>isHosted</th>\n",
       "      <th>pillarId</th>\n",
       "      <th>pillarName</th>\n",
       "      <th>sectionId</th>\n",
       "      <th>sectionName</th>\n",
       "      <th>type</th>\n",
       "      <th>webPublicationDate</th>\n",
       "      <th>webTitle</th>\n",
       "      <th>webUrl</th>\n",
       "    </tr>\n",
       "  </thead>\n",
       "  <tbody>\n",
       "    <tr>\n",
       "      <th>0</th>\n",
       "      <td>https://content.guardianapis.com/sport/2017/no...</td>\n",
       "      <td>{'headline': 'ATP Finals: Goffin shocks Federe...</td>\n",
       "      <td>sport/2017/nov/18/roger-federer-</td>\n",
       "      <td>False</td>\n",
       "      <td>pillar/sport</td>\n",
       "      <td>Sport</td>\n",
       "      <td>sport</td>\n",
       "      <td>Sport</td>\n",
       "      <td>article</td>\n",
       "      <td>2017-11-18T23:27:54Z</td>\n",
       "      <td>ATP Finals: Goffin shocks Federer to set up ti...</td>\n",
       "      <td>https://www.theguardian.com/sport/2017/nov/18/...</td>\n",
       "    </tr>\n",
       "    <tr>\n",
       "      <th>1</th>\n",
       "      <td>https://content.guardianapis.com/football/2017...</td>\n",
       "      <td>{'headline': 'Bloody nose for Sergio Ramos as ...</td>\n",
       "      <td>football/2017/nov/18/atletico-madrid-real-madr...</td>\n",
       "      <td>False</td>\n",
       "      <td>pillar/sport</td>\n",
       "      <td>Sport</td>\n",
       "      <td>football</td>\n",
       "      <td>Football</td>\n",
       "      <td>article</td>\n",
       "      <td>2017-11-18T22:35:33Z</td>\n",
       "      <td>Bloody nose for Sergio Ramos as Real and Atlét...</td>\n",
       "      <td>https://www.theguardian.com/football/2017/nov/...</td>\n",
       "    </tr>\n",
       "    <tr>\n",
       "      <th>2</th>\n",
       "      <td>https://content.guardianapis.com/football/2017...</td>\n",
       "      <td>{'headline': 'David Moyes insists West Ham is ...</td>\n",
       "      <td>football/2017/nov/18/west-ham-david-moyes</td>\n",
       "      <td>False</td>\n",
       "      <td>pillar/sport</td>\n",
       "      <td>Sport</td>\n",
       "      <td>football</td>\n",
       "      <td>Football</td>\n",
       "      <td>article</td>\n",
       "      <td>2017-11-18T22:30:43Z</td>\n",
       "      <td>David Moyes insists West Ham is not his last c...</td>\n",
       "      <td>https://www.theguardian.com/football/2017/nov/...</td>\n",
       "    </tr>\n",
       "    <tr>\n",
       "      <th>3</th>\n",
       "      <td>https://content.guardianapis.com/sport/2017/no...</td>\n",
       "      <td>{'headline': 'Ashes 2017-18: player-by-player ...</td>\n",
       "      <td>sport/2017/nov/18/australia-england-first-test...</td>\n",
       "      <td>False</td>\n",
       "      <td>pillar/sport</td>\n",
       "      <td>Sport</td>\n",
       "      <td>sport</td>\n",
       "      <td>Sport</td>\n",
       "      <td>article</td>\n",
       "      <td>2017-11-18T22:15:09Z</td>\n",
       "      <td>Ashes 2017-18: player-by-player guide to the A...</td>\n",
       "      <td>https://www.theguardian.com/sport/2017/nov/18/...</td>\n",
       "    </tr>\n",
       "    <tr>\n",
       "      <th>4</th>\n",
       "      <td>https://content.guardianapis.com/politics/2017...</td>\n",
       "      <td>{'headline': 'Gerry Adams steps down as Sinn F...</td>\n",
       "      <td>politics/2017/nov/18/gerry-adams-steps-down-as...</td>\n",
       "      <td>False</td>\n",
       "      <td>pillar/news</td>\n",
       "      <td>News</td>\n",
       "      <td>politics</td>\n",
       "      <td>Politics</td>\n",
       "      <td>article</td>\n",
       "      <td>2017-11-18T22:10:48Z</td>\n",
       "      <td>Gerry Adams steps down as Sinn Féin president</td>\n",
       "      <td>https://www.theguardian.com/politics/2017/nov/...</td>\n",
       "    </tr>\n",
       "  </tbody>\n",
       "</table>\n",
       "</div>"
      ],
      "text/plain": [
       "                                              apiUrl  \\\n",
       "0  https://content.guardianapis.com/sport/2017/no...   \n",
       "1  https://content.guardianapis.com/football/2017...   \n",
       "2  https://content.guardianapis.com/football/2017...   \n",
       "3  https://content.guardianapis.com/sport/2017/no...   \n",
       "4  https://content.guardianapis.com/politics/2017...   \n",
       "\n",
       "                                              fields  \\\n",
       "0  {'headline': 'ATP Finals: Goffin shocks Federe...   \n",
       "1  {'headline': 'Bloody nose for Sergio Ramos as ...   \n",
       "2  {'headline': 'David Moyes insists West Ham is ...   \n",
       "3  {'headline': 'Ashes 2017-18: player-by-player ...   \n",
       "4  {'headline': 'Gerry Adams steps down as Sinn F...   \n",
       "\n",
       "                                                  id  isHosted      pillarId  \\\n",
       "0                   sport/2017/nov/18/roger-federer-     False  pillar/sport   \n",
       "1  football/2017/nov/18/atletico-madrid-real-madr...     False  pillar/sport   \n",
       "2          football/2017/nov/18/west-ham-david-moyes     False  pillar/sport   \n",
       "3  sport/2017/nov/18/australia-england-first-test...     False  pillar/sport   \n",
       "4  politics/2017/nov/18/gerry-adams-steps-down-as...     False   pillar/news   \n",
       "\n",
       "  pillarName sectionId sectionName     type    webPublicationDate  \\\n",
       "0      Sport     sport       Sport  article  2017-11-18T23:27:54Z   \n",
       "1      Sport  football    Football  article  2017-11-18T22:35:33Z   \n",
       "2      Sport  football    Football  article  2017-11-18T22:30:43Z   \n",
       "3      Sport     sport       Sport  article  2017-11-18T22:15:09Z   \n",
       "4       News  politics    Politics  article  2017-11-18T22:10:48Z   \n",
       "\n",
       "                                            webTitle  \\\n",
       "0  ATP Finals: Goffin shocks Federer to set up ti...   \n",
       "1  Bloody nose for Sergio Ramos as Real and Atlét...   \n",
       "2  David Moyes insists West Ham is not his last c...   \n",
       "3  Ashes 2017-18: player-by-player guide to the A...   \n",
       "4      Gerry Adams steps down as Sinn Féin president   \n",
       "\n",
       "                                              webUrl  \n",
       "0  https://www.theguardian.com/sport/2017/nov/18/...  \n",
       "1  https://www.theguardian.com/football/2017/nov/...  \n",
       "2  https://www.theguardian.com/football/2017/nov/...  \n",
       "3  https://www.theguardian.com/sport/2017/nov/18/...  \n",
       "4  https://www.theguardian.com/politics/2017/nov/...  "
      ]
     },
     "execution_count": 71,
     "metadata": {},
     "output_type": "execute_result"
    }
   ],
   "source": [
    "df.head()"
   ]
  },
  {
   "cell_type": "code",
   "execution_count": 72,
   "metadata": {},
   "outputs": [
    {
     "data": {
      "text/plain": [
       "Index(['apiUrl', 'fields', 'id', 'isHosted', 'pillarId', 'pillarName',\n",
       "       'sectionId', 'sectionName', 'type', 'webPublicationDate', 'webTitle',\n",
       "       'webUrl'],\n",
       "      dtype='object')"
      ]
     },
     "execution_count": 72,
     "metadata": {},
     "output_type": "execute_result"
    }
   ],
   "source": [
    "df.columns"
   ]
  },
  {
   "cell_type": "code",
   "execution_count": 73,
   "metadata": {},
   "outputs": [],
   "source": [
    "# for all articles extract their text which is under fileds -> bodytext\n",
    "# df.iloc[0].fields -> show contents of a fields columns\n",
    "body_text = []\n",
    "headlines = []\n",
    "wordcount = []\n",
    "for index in range(df.shape[0]):\n",
    "    text = df.iloc[index].fields['bodyText']\n",
    "    headline = df.iloc[index].fields['headline']\n",
    "    count = df.iloc[index].fields['wordcount']\n",
    "    body_text.append(text)\n",
    "    headlines.append(headline)\n",
    "    wordcount.append(count)\n",
    "\n",
    "df['bodyText'] = body_text\n",
    "df['headlines'] = headlines\n",
    "df['wordcount'] = wordcount\n",
    "\n",
    "# Remove articles where body is empty, also selects articles from US\n"
   ]
  },
  {
   "cell_type": "code",
   "execution_count": 74,
   "metadata": {},
   "outputs": [],
   "source": [
    "df = df[df.bodyText != \"\"]\n"
   ]
  },
  {
   "cell_type": "code",
   "execution_count": 75,
   "metadata": {},
   "outputs": [],
   "source": [
    "#df.sectionName[0:100]\n",
    "section_mask = ((df.sectionName == 'US news') | (df.sectionName == 'Sport') \n",
    "                |  (df.sectionName == 'Business') | (df.sectionName == 'politics') | (df.sectionName == 'World news')\n",
    "                | (df.sectionName == 'Film') | (df.sectionName == 'Fashion') \n",
    "               )\n"
   ]
  },
  {
   "cell_type": "code",
   "execution_count": 76,
   "metadata": {},
   "outputs": [
    {
     "name": "stdout",
     "output_type": "stream",
     "text": [
      "(67281, 15)\n",
      "(19143, 15)\n"
     ]
    }
   ],
   "source": [
    "print(df.shape)\n",
    "df = df[section_mask]\n",
    "print(df.shape)\n"
   ]
  },
  {
   "cell_type": "code",
   "execution_count": 77,
   "metadata": {},
   "outputs": [],
   "source": [
    "#replace new line with \"\" , find other patterns later\n",
    "for idex, item in enumerate(df['bodyText']):\n",
    "    df['bodyText'][index] = re.sub(\"(\\n)\", \"\", item)\n",
    "\n",
    "for idex, item in enumerate(df['headlines']):\n",
    "    df['headlines'][index] = re.sub(\"(\\n)\", \"\", item)\n",
    "    \n",
    "#saved this data frame to csv file"
   ]
  },
  {
   "cell_type": "code",
   "execution_count": 78,
   "metadata": {},
   "outputs": [],
   "source": [
    "df.to_csv(JOINED_ARTICLES_FILE, sep=',', encoding='utf-8')"
   ]
  },
  {
   "cell_type": "code",
   "execution_count": 79,
   "metadata": {},
   "outputs": [],
   "source": [
    "df_saved = pd.read_csv(JOINED_ARTICLES_FILE, sep=',', encoding='utf-8')"
   ]
  },
  {
   "cell_type": "code",
   "execution_count": 85,
   "metadata": {},
   "outputs": [],
   "source": [
    "col_selected = ['webUrl', 'sectionName', 'type', 'bodyText', 'headlines', 'wordcount']\n",
    "df_saved = df_saved[col_selected]"
   ]
  },
  {
   "cell_type": "code",
   "execution_count": 86,
   "metadata": {},
   "outputs": [
    {
     "data": {
      "text/html": [
       "<div>\n",
       "<style scoped>\n",
       "    .dataframe tbody tr th:only-of-type {\n",
       "        vertical-align: middle;\n",
       "    }\n",
       "\n",
       "    .dataframe tbody tr th {\n",
       "        vertical-align: top;\n",
       "    }\n",
       "\n",
       "    .dataframe thead th {\n",
       "        text-align: right;\n",
       "    }\n",
       "</style>\n",
       "<table border=\"1\" class=\"dataframe\">\n",
       "  <thead>\n",
       "    <tr style=\"text-align: right;\">\n",
       "      <th></th>\n",
       "      <th>webUrl</th>\n",
       "      <th>sectionName</th>\n",
       "      <th>type</th>\n",
       "      <th>bodyText</th>\n",
       "      <th>headlines</th>\n",
       "      <th>wordcount</th>\n",
       "    </tr>\n",
       "  </thead>\n",
       "  <tbody>\n",
       "    <tr>\n",
       "      <th>0</th>\n",
       "      <td>https://www.theguardian.com/sport/2017/nov/18/...</td>\n",
       "      <td>Sport</td>\n",
       "      <td>article</td>\n",
       "      <td>Roger Federer leaves his magnificent season on...</td>\n",
       "      <td>ATP Finals: Goffin shocks Federer to set up ti...</td>\n",
       "      <td>907</td>\n",
       "    </tr>\n",
       "    <tr>\n",
       "      <th>1</th>\n",
       "      <td>https://www.theguardian.com/sport/2017/nov/18/...</td>\n",
       "      <td>Sport</td>\n",
       "      <td>article</td>\n",
       "      <td>DAVID WARNER Bullies bowlers and loves beating...</td>\n",
       "      <td>Ashes 2017-18: player-by-player guide to the A...</td>\n",
       "      <td>741</td>\n",
       "    </tr>\n",
       "    <tr>\n",
       "      <th>2</th>\n",
       "      <td>https://www.theguardian.com/world/2017/nov/18/...</td>\n",
       "      <td>World news</td>\n",
       "      <td>article</td>\n",
       "      <td>More than a year after the UK government pledg...</td>\n",
       "      <td>First child refugee from Greek camps comes to UK</td>\n",
       "      <td>914</td>\n",
       "    </tr>\n",
       "    <tr>\n",
       "      <th>3</th>\n",
       "      <td>https://www.theguardian.com/world/2017/nov/18/...</td>\n",
       "      <td>World news</td>\n",
       "      <td>article</td>\n",
       "      <td>Scientists have warned there could be a big in...</td>\n",
       "      <td>Upsurge in big earthquakes predicted for 2018 ...</td>\n",
       "      <td>510</td>\n",
       "    </tr>\n",
       "    <tr>\n",
       "      <th>4</th>\n",
       "      <td>https://www.theguardian.com/film/2017/nov/18/h...</td>\n",
       "      <td>Film</td>\n",
       "      <td>article</td>\n",
       "      <td>The Observer has gained access to a secret hit...</td>\n",
       "      <td>Harvey Weinstein had secret hitlist of names t...</td>\n",
       "      <td>938</td>\n",
       "    </tr>\n",
       "  </tbody>\n",
       "</table>\n",
       "</div>"
      ],
      "text/plain": [
       "                                              webUrl sectionName     type  \\\n",
       "0  https://www.theguardian.com/sport/2017/nov/18/...       Sport  article   \n",
       "1  https://www.theguardian.com/sport/2017/nov/18/...       Sport  article   \n",
       "2  https://www.theguardian.com/world/2017/nov/18/...  World news  article   \n",
       "3  https://www.theguardian.com/world/2017/nov/18/...  World news  article   \n",
       "4  https://www.theguardian.com/film/2017/nov/18/h...        Film  article   \n",
       "\n",
       "                                            bodyText  \\\n",
       "0  Roger Federer leaves his magnificent season on...   \n",
       "1  DAVID WARNER Bullies bowlers and loves beating...   \n",
       "2  More than a year after the UK government pledg...   \n",
       "3  Scientists have warned there could be a big in...   \n",
       "4  The Observer has gained access to a secret hit...   \n",
       "\n",
       "                                           headlines  wordcount  \n",
       "0  ATP Finals: Goffin shocks Federer to set up ti...        907  \n",
       "1  Ashes 2017-18: player-by-player guide to the A...        741  \n",
       "2   First child refugee from Greek camps comes to UK        914  \n",
       "3  Upsurge in big earthquakes predicted for 2018 ...        510  \n",
       "4  Harvey Weinstein had secret hitlist of names t...        938  "
      ]
     },
     "execution_count": 86,
     "metadata": {},
     "output_type": "execute_result"
    }
   ],
   "source": [
    "df_saved.head()"
   ]
  },
  {
   "cell_type": "code",
   "execution_count": 83,
   "metadata": {},
   "outputs": [],
   "source": [
    "# df_kaggle = pd.read_csv('test_kaggle.csv', sep =',')\n",
    "# df_kaggle.head()"
   ]
  },
  {
   "cell_type": "code",
   "execution_count": null,
   "metadata": {},
   "outputs": [],
   "source": []
  }
 ],
 "metadata": {
  "kernelspec": {
   "display_name": "Python 3",
   "language": "python",
   "name": "python3"
  },
  "language_info": {
   "codemirror_mode": {
    "name": "ipython",
    "version": 3
   },
   "file_extension": ".py",
   "mimetype": "text/x-python",
   "name": "python",
   "nbconvert_exporter": "python",
   "pygments_lexer": "ipython3",
   "version": "3.6.4"
  }
 },
 "nbformat": 4,
 "nbformat_minor": 2
}
